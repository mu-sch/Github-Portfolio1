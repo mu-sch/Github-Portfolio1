{
 "cells": [
  {
   "cell_type": "markdown",
   "id": "53218fca-c69e-4707-8a48-69d4193bb1a9",
   "metadata": {},
   "source": [
    "# Semi Deviation"
   ]
  },
  {
   "cell_type": "markdown",
   "id": "2e32c230-37a1-44b9-8dfb-7f558da413c8",
   "metadata": {
    "tags": []
   },
   "source": [
    "In the previos lab session, is used a different formula to compute the semideviation from the one explained by professor Martellini. The formulaused in the lab session is an approximation that is used for data with a mean close to zero (as daily returns). Below you can find the function to compute the semideviation according to the formula explained by professor Martellini."
   ]
  },
  {
   "cell_type": "code",
   "execution_count": null,
   "id": "4cfb54e7-bc19-4489-b3ed-731a2f16d16f",
   "metadata": {},
   "outputs": [],
   "source": []
  },
  {
   "cell_type": "code",
   "execution_count": null,
   "id": "211decb2-37cf-4396-8ff1-ed13cfb81cce",
   "metadata": {},
   "outputs": [],
   "source": [
    "def semideviation(r):\n",
    "    \"\"\"\n",
    "    Returns the semideviation aka negative semideviation of r\n",
    "    r must be a Series or a DataFrame, else raises a TypeError\n",
    "    \"\"\"\n",
    "    excess= r-r.mean()                                        # We demean the returns\n",
    "    excess_negative = excess[excess<0]                        # We take only the returns below the mean\n",
    "    excess_negative_square = excess_negative**2               # We square the demeaned returns below the mean\n",
    "    n_negative = (excess<0).sum()                             # number of returns under the mean\n",
    "    return (excess_negative_square.sum()/n_negative)**0.5     # semideviation\n"
   ]
  },
  {
   "cell_type": "code",
   "execution_count": null,
   "id": "0d00f7a6-d504-4343-b498-de2271237017",
   "metadata": {},
   "outputs": [],
   "source": []
  }
 ],
 "metadata": {
  "kernelspec": {
   "display_name": "Python 3 (ipykernel)",
   "language": "python",
   "name": "python3"
  },
  "language_info": {
   "codemirror_mode": {
    "name": "ipython",
    "version": 3
   },
   "file_extension": ".py",
   "mimetype": "text/x-python",
   "name": "python",
   "nbconvert_exporter": "python",
   "pygments_lexer": "ipython3",
   "version": "3.9.13"
  }
 },
 "nbformat": 4,
 "nbformat_minor": 5
}
