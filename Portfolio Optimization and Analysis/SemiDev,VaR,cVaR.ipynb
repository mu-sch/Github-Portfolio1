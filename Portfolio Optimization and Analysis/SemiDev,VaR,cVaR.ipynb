{
 "cells": [
  {
   "cell_type": "markdown",
   "id": "c56fb9a5-9139-4977-9ca1-df38596669dd",
   "metadata": {},
   "source": [
    "## Downside Measures"
   ]
  },
  {
   "cell_type": "code",
   "execution_count": 1,
   "id": "cd99c7a7-2d95-445b-8a09-1dc34a17b091",
   "metadata": {},
   "outputs": [],
   "source": [
    "import pandas as pd \n",
    "import edhec_risk_kit as erk\n",
    "%load_ext autoreload\n",
    "%autoreload 2\n",
    "%matplotlib inline"
   ]
  },
  {
   "cell_type": "code",
   "execution_count": 2,
   "id": "d9d7b31f-bbc3-4a01-ba6d-f88a828e6b04",
   "metadata": {},
   "outputs": [
    {
     "name": "stderr",
     "output_type": "stream",
     "text": [
      "C:\\Users\\Michael\\anaconda3\\lib\\site-packages\\pandas\\io\\parsers\\base_parser.py:1070: UserWarning: Parsing '31/01/1997' in DD/MM/YYYY format. Provide format or specify infer_datetime_format=True for consistent parsing.\n",
      "  return tools.to_datetime(\n",
      "C:\\Users\\Michael\\anaconda3\\lib\\site-packages\\pandas\\io\\parsers\\base_parser.py:1070: UserWarning: Parsing '28/02/1997' in DD/MM/YYYY format. Provide format or specify infer_datetime_format=True for consistent parsing.\n",
      "  return tools.to_datetime(\n",
      "C:\\Users\\Michael\\anaconda3\\lib\\site-packages\\pandas\\io\\parsers\\base_parser.py:1070: UserWarning: Parsing '31/03/1997' in DD/MM/YYYY format. Provide format or specify infer_datetime_format=True for consistent parsing.\n",
      "  return tools.to_datetime(\n",
      "C:\\Users\\Michael\\anaconda3\\lib\\site-packages\\pandas\\io\\parsers\\base_parser.py:1070: UserWarning: Parsing '30/04/1997' in DD/MM/YYYY format. Provide format or specify infer_datetime_format=True for consistent parsing.\n",
      "  return tools.to_datetime(\n",
      "C:\\Users\\Michael\\anaconda3\\lib\\site-packages\\pandas\\io\\parsers\\base_parser.py:1070: UserWarning: Parsing '31/05/1997' in DD/MM/YYYY format. Provide format or specify infer_datetime_format=True for consistent parsing.\n",
      "  return tools.to_datetime(\n",
      "C:\\Users\\Michael\\anaconda3\\lib\\site-packages\\pandas\\io\\parsers\\base_parser.py:1070: UserWarning: Parsing '30/06/1997' in DD/MM/YYYY format. Provide format or specify infer_datetime_format=True for consistent parsing.\n",
      "  return tools.to_datetime(\n",
      "C:\\Users\\Michael\\anaconda3\\lib\\site-packages\\pandas\\io\\parsers\\base_parser.py:1070: UserWarning: Parsing '31/07/1997' in DD/MM/YYYY format. Provide format or specify infer_datetime_format=True for consistent parsing.\n",
      "  return tools.to_datetime(\n",
      "C:\\Users\\Michael\\anaconda3\\lib\\site-packages\\pandas\\io\\parsers\\base_parser.py:1070: UserWarning: Parsing '31/08/1997' in DD/MM/YYYY format. Provide format or specify infer_datetime_format=True for consistent parsing.\n",
      "  return tools.to_datetime(\n",
      "C:\\Users\\Michael\\anaconda3\\lib\\site-packages\\pandas\\io\\parsers\\base_parser.py:1070: UserWarning: Parsing '30/09/1997' in DD/MM/YYYY format. Provide format or specify infer_datetime_format=True for consistent parsing.\n",
      "  return tools.to_datetime(\n",
      "C:\\Users\\Michael\\anaconda3\\lib\\site-packages\\pandas\\io\\parsers\\base_parser.py:1070: UserWarning: Parsing '31/10/1997' in DD/MM/YYYY format. Provide format or specify infer_datetime_format=True for consistent parsing.\n",
      "  return tools.to_datetime(\n",
      "C:\\Users\\Michael\\anaconda3\\lib\\site-packages\\pandas\\io\\parsers\\base_parser.py:1070: UserWarning: Parsing '30/11/1997' in DD/MM/YYYY format. Provide format or specify infer_datetime_format=True for consistent parsing.\n",
      "  return tools.to_datetime(\n",
      "C:\\Users\\Michael\\anaconda3\\lib\\site-packages\\pandas\\io\\parsers\\base_parser.py:1070: UserWarning: Parsing '31/12/1997' in DD/MM/YYYY format. Provide format or specify infer_datetime_format=True for consistent parsing.\n",
      "  return tools.to_datetime(\n",
      "C:\\Users\\Michael\\anaconda3\\lib\\site-packages\\pandas\\io\\parsers\\base_parser.py:1070: UserWarning: Parsing '31/01/1998' in DD/MM/YYYY format. Provide format or specify infer_datetime_format=True for consistent parsing.\n",
      "  return tools.to_datetime(\n",
      "C:\\Users\\Michael\\anaconda3\\lib\\site-packages\\pandas\\io\\parsers\\base_parser.py:1070: UserWarning: Parsing '28/02/1998' in DD/MM/YYYY format. Provide format or specify infer_datetime_format=True for consistent parsing.\n",
      "  return tools.to_datetime(\n",
      "C:\\Users\\Michael\\anaconda3\\lib\\site-packages\\pandas\\io\\parsers\\base_parser.py:1070: UserWarning: Parsing '31/03/1998' in DD/MM/YYYY format. Provide format or specify infer_datetime_format=True for consistent parsing.\n",
      "  return tools.to_datetime(\n",
      "C:\\Users\\Michael\\anaconda3\\lib\\site-packages\\pandas\\io\\parsers\\base_parser.py:1070: UserWarning: Parsing '30/04/1998' in DD/MM/YYYY format. Provide format or specify infer_datetime_format=True for consistent parsing.\n",
      "  return tools.to_datetime(\n",
      "C:\\Users\\Michael\\anaconda3\\lib\\site-packages\\pandas\\io\\parsers\\base_parser.py:1070: UserWarning: Parsing '31/05/1998' in DD/MM/YYYY format. Provide format or specify infer_datetime_format=True for consistent parsing.\n",
      "  return tools.to_datetime(\n",
      "C:\\Users\\Michael\\anaconda3\\lib\\site-packages\\pandas\\io\\parsers\\base_parser.py:1070: UserWarning: Parsing '30/06/1998' in DD/MM/YYYY format. Provide format or specify infer_datetime_format=True for consistent parsing.\n",
      "  return tools.to_datetime(\n",
      "C:\\Users\\Michael\\anaconda3\\lib\\site-packages\\pandas\\io\\parsers\\base_parser.py:1070: UserWarning: Parsing '31/07/1998' in DD/MM/YYYY format. Provide format or specify infer_datetime_format=True for consistent parsing.\n",
      "  return tools.to_datetime(\n",
      "C:\\Users\\Michael\\anaconda3\\lib\\site-packages\\pandas\\io\\parsers\\base_parser.py:1070: UserWarning: Parsing '31/08/1998' in DD/MM/YYYY format. Provide format or specify infer_datetime_format=True for consistent parsing.\n",
      "  return tools.to_datetime(\n",
      "C:\\Users\\Michael\\anaconda3\\lib\\site-packages\\pandas\\io\\parsers\\base_parser.py:1070: UserWarning: Parsing '30/09/1998' in DD/MM/YYYY format. Provide format or specify infer_datetime_format=True for consistent parsing.\n",
      "  return tools.to_datetime(\n",
      "C:\\Users\\Michael\\anaconda3\\lib\\site-packages\\pandas\\io\\parsers\\base_parser.py:1070: UserWarning: Parsing '31/10/1998' in DD/MM/YYYY format. Provide format or specify infer_datetime_format=True for consistent parsing.\n",
      "  return tools.to_datetime(\n",
      "C:\\Users\\Michael\\anaconda3\\lib\\site-packages\\pandas\\io\\parsers\\base_parser.py:1070: UserWarning: Parsing '30/11/1998' in DD/MM/YYYY format. Provide format or specify infer_datetime_format=True for consistent parsing.\n",
      "  return tools.to_datetime(\n",
      "C:\\Users\\Michael\\anaconda3\\lib\\site-packages\\pandas\\io\\parsers\\base_parser.py:1070: UserWarning: Parsing '31/12/1998' in DD/MM/YYYY format. Provide format or specify infer_datetime_format=True for consistent parsing.\n",
      "  return tools.to_datetime(\n",
      "C:\\Users\\Michael\\anaconda3\\lib\\site-packages\\pandas\\io\\parsers\\base_parser.py:1070: UserWarning: Parsing '31/01/1999' in DD/MM/YYYY format. Provide format or specify infer_datetime_format=True for consistent parsing.\n",
      "  return tools.to_datetime(\n",
      "C:\\Users\\Michael\\anaconda3\\lib\\site-packages\\pandas\\io\\parsers\\base_parser.py:1070: UserWarning: Parsing '28/02/1999' in DD/MM/YYYY format. Provide format or specify infer_datetime_format=True for consistent parsing.\n",
      "  return tools.to_datetime(\n",
      "C:\\Users\\Michael\\anaconda3\\lib\\site-packages\\pandas\\io\\parsers\\base_parser.py:1070: UserWarning: Parsing '31/03/1999' in DD/MM/YYYY format. Provide format or specify infer_datetime_format=True for consistent parsing.\n",
      "  return tools.to_datetime(\n",
      "C:\\Users\\Michael\\anaconda3\\lib\\site-packages\\pandas\\io\\parsers\\base_parser.py:1070: UserWarning: Parsing '30/04/1999' in DD/MM/YYYY format. Provide format or specify infer_datetime_format=True for consistent parsing.\n",
      "  return tools.to_datetime(\n",
      "C:\\Users\\Michael\\anaconda3\\lib\\site-packages\\pandas\\io\\parsers\\base_parser.py:1070: UserWarning: Parsing '31/05/1999' in DD/MM/YYYY format. Provide format or specify infer_datetime_format=True for consistent parsing.\n",
      "  return tools.to_datetime(\n",
      "C:\\Users\\Michael\\anaconda3\\lib\\site-packages\\pandas\\io\\parsers\\base_parser.py:1070: UserWarning: Parsing '30/06/1999' in DD/MM/YYYY format. Provide format or specify infer_datetime_format=True for consistent parsing.\n",
      "  return tools.to_datetime(\n",
      "C:\\Users\\Michael\\anaconda3\\lib\\site-packages\\pandas\\io\\parsers\\base_parser.py:1070: UserWarning: Parsing '31/07/1999' in DD/MM/YYYY format. Provide format or specify infer_datetime_format=True for consistent parsing.\n",
      "  return tools.to_datetime(\n",
      "C:\\Users\\Michael\\anaconda3\\lib\\site-packages\\pandas\\io\\parsers\\base_parser.py:1070: UserWarning: Parsing '31/08/1999' in DD/MM/YYYY format. Provide format or specify infer_datetime_format=True for consistent parsing.\n",
      "  return tools.to_datetime(\n",
      "C:\\Users\\Michael\\anaconda3\\lib\\site-packages\\pandas\\io\\parsers\\base_parser.py:1070: UserWarning: Parsing '30/09/1999' in DD/MM/YYYY format. Provide format or specify infer_datetime_format=True for consistent parsing.\n",
      "  return tools.to_datetime(\n",
      "C:\\Users\\Michael\\anaconda3\\lib\\site-packages\\pandas\\io\\parsers\\base_parser.py:1070: UserWarning: Parsing '31/10/1999' in DD/MM/YYYY format. Provide format or specify infer_datetime_format=True for consistent parsing.\n",
      "  return tools.to_datetime(\n",
      "C:\\Users\\Michael\\anaconda3\\lib\\site-packages\\pandas\\io\\parsers\\base_parser.py:1070: UserWarning: Parsing '30/11/1999' in DD/MM/YYYY format. Provide format or specify infer_datetime_format=True for consistent parsing.\n",
      "  return tools.to_datetime(\n",
      "C:\\Users\\Michael\\anaconda3\\lib\\site-packages\\pandas\\io\\parsers\\base_parser.py:1070: UserWarning: Parsing '31/12/1999' in DD/MM/YYYY format. Provide format or specify infer_datetime_format=True for consistent parsing.\n",
      "  return tools.to_datetime(\n",
      "C:\\Users\\Michael\\anaconda3\\lib\\site-packages\\pandas\\io\\parsers\\base_parser.py:1070: UserWarning: Parsing '31/01/2000' in DD/MM/YYYY format. Provide format or specify infer_datetime_format=True for consistent parsing.\n",
      "  return tools.to_datetime(\n",
      "C:\\Users\\Michael\\anaconda3\\lib\\site-packages\\pandas\\io\\parsers\\base_parser.py:1070: UserWarning: Parsing '29/02/2000' in DD/MM/YYYY format. Provide format or specify infer_datetime_format=True for consistent parsing.\n",
      "  return tools.to_datetime(\n",
      "C:\\Users\\Michael\\anaconda3\\lib\\site-packages\\pandas\\io\\parsers\\base_parser.py:1070: UserWarning: Parsing '31/03/2000' in DD/MM/YYYY format. Provide format or specify infer_datetime_format=True for consistent parsing.\n",
      "  return tools.to_datetime(\n",
      "C:\\Users\\Michael\\anaconda3\\lib\\site-packages\\pandas\\io\\parsers\\base_parser.py:1070: UserWarning: Parsing '30/04/2000' in DD/MM/YYYY format. Provide format or specify infer_datetime_format=True for consistent parsing.\n",
      "  return tools.to_datetime(\n",
      "C:\\Users\\Michael\\anaconda3\\lib\\site-packages\\pandas\\io\\parsers\\base_parser.py:1070: UserWarning: Parsing '31/05/2000' in DD/MM/YYYY format. Provide format or specify infer_datetime_format=True for consistent parsing.\n",
      "  return tools.to_datetime(\n",
      "C:\\Users\\Michael\\anaconda3\\lib\\site-packages\\pandas\\io\\parsers\\base_parser.py:1070: UserWarning: Parsing '30/06/2000' in DD/MM/YYYY format. Provide format or specify infer_datetime_format=True for consistent parsing.\n",
      "  return tools.to_datetime(\n",
      "C:\\Users\\Michael\\anaconda3\\lib\\site-packages\\pandas\\io\\parsers\\base_parser.py:1070: UserWarning: Parsing '31/07/2000' in DD/MM/YYYY format. Provide format or specify infer_datetime_format=True for consistent parsing.\n",
      "  return tools.to_datetime(\n",
      "C:\\Users\\Michael\\anaconda3\\lib\\site-packages\\pandas\\io\\parsers\\base_parser.py:1070: UserWarning: Parsing '31/08/2000' in DD/MM/YYYY format. Provide format or specify infer_datetime_format=True for consistent parsing.\n",
      "  return tools.to_datetime(\n",
      "C:\\Users\\Michael\\anaconda3\\lib\\site-packages\\pandas\\io\\parsers\\base_parser.py:1070: UserWarning: Parsing '30/09/2000' in DD/MM/YYYY format. Provide format or specify infer_datetime_format=True for consistent parsing.\n",
      "  return tools.to_datetime(\n",
      "C:\\Users\\Michael\\anaconda3\\lib\\site-packages\\pandas\\io\\parsers\\base_parser.py:1070: UserWarning: Parsing '31/10/2000' in DD/MM/YYYY format. Provide format or specify infer_datetime_format=True for consistent parsing.\n",
      "  return tools.to_datetime(\n",
      "C:\\Users\\Michael\\anaconda3\\lib\\site-packages\\pandas\\io\\parsers\\base_parser.py:1070: UserWarning: Parsing '30/11/2000' in DD/MM/YYYY format. Provide format or specify infer_datetime_format=True for consistent parsing.\n",
      "  return tools.to_datetime(\n",
      "C:\\Users\\Michael\\anaconda3\\lib\\site-packages\\pandas\\io\\parsers\\base_parser.py:1070: UserWarning: Parsing '31/12/2000' in DD/MM/YYYY format. Provide format or specify infer_datetime_format=True for consistent parsing.\n",
      "  return tools.to_datetime(\n",
      "C:\\Users\\Michael\\anaconda3\\lib\\site-packages\\pandas\\io\\parsers\\base_parser.py:1070: UserWarning: Parsing '31/01/2001' in DD/MM/YYYY format. Provide format or specify infer_datetime_format=True for consistent parsing.\n",
      "  return tools.to_datetime(\n",
      "C:\\Users\\Michael\\anaconda3\\lib\\site-packages\\pandas\\io\\parsers\\base_parser.py:1070: UserWarning: Parsing '28/02/2001' in DD/MM/YYYY format. Provide format or specify infer_datetime_format=True for consistent parsing.\n",
      "  return tools.to_datetime(\n",
      "C:\\Users\\Michael\\anaconda3\\lib\\site-packages\\pandas\\io\\parsers\\base_parser.py:1070: UserWarning: Parsing '31/03/2001' in DD/MM/YYYY format. Provide format or specify infer_datetime_format=True for consistent parsing.\n",
      "  return tools.to_datetime(\n",
      "C:\\Users\\Michael\\anaconda3\\lib\\site-packages\\pandas\\io\\parsers\\base_parser.py:1070: UserWarning: Parsing '30/04/2001' in DD/MM/YYYY format. Provide format or specify infer_datetime_format=True for consistent parsing.\n",
      "  return tools.to_datetime(\n",
      "C:\\Users\\Michael\\anaconda3\\lib\\site-packages\\pandas\\io\\parsers\\base_parser.py:1070: UserWarning: Parsing '31/05/2001' in DD/MM/YYYY format. Provide format or specify infer_datetime_format=True for consistent parsing.\n",
      "  return tools.to_datetime(\n",
      "C:\\Users\\Michael\\anaconda3\\lib\\site-packages\\pandas\\io\\parsers\\base_parser.py:1070: UserWarning: Parsing '30/06/2001' in DD/MM/YYYY format. Provide format or specify infer_datetime_format=True for consistent parsing.\n",
      "  return tools.to_datetime(\n",
      "C:\\Users\\Michael\\anaconda3\\lib\\site-packages\\pandas\\io\\parsers\\base_parser.py:1070: UserWarning: Parsing '31/07/2001' in DD/MM/YYYY format. Provide format or specify infer_datetime_format=True for consistent parsing.\n",
      "  return tools.to_datetime(\n",
      "C:\\Users\\Michael\\anaconda3\\lib\\site-packages\\pandas\\io\\parsers\\base_parser.py:1070: UserWarning: Parsing '31/08/2001' in DD/MM/YYYY format. Provide format or specify infer_datetime_format=True for consistent parsing.\n",
      "  return tools.to_datetime(\n",
      "C:\\Users\\Michael\\anaconda3\\lib\\site-packages\\pandas\\io\\parsers\\base_parser.py:1070: UserWarning: Parsing '30/09/2001' in DD/MM/YYYY format. Provide format or specify infer_datetime_format=True for consistent parsing.\n",
      "  return tools.to_datetime(\n",
      "C:\\Users\\Michael\\anaconda3\\lib\\site-packages\\pandas\\io\\parsers\\base_parser.py:1070: UserWarning: Parsing '31/10/2001' in DD/MM/YYYY format. Provide format or specify infer_datetime_format=True for consistent parsing.\n",
      "  return tools.to_datetime(\n",
      "C:\\Users\\Michael\\anaconda3\\lib\\site-packages\\pandas\\io\\parsers\\base_parser.py:1070: UserWarning: Parsing '30/11/2001' in DD/MM/YYYY format. Provide format or specify infer_datetime_format=True for consistent parsing.\n",
      "  return tools.to_datetime(\n",
      "C:\\Users\\Michael\\anaconda3\\lib\\site-packages\\pandas\\io\\parsers\\base_parser.py:1070: UserWarning: Parsing '31/12/2001' in DD/MM/YYYY format. Provide format or specify infer_datetime_format=True for consistent parsing.\n",
      "  return tools.to_datetime(\n",
      "C:\\Users\\Michael\\anaconda3\\lib\\site-packages\\pandas\\io\\parsers\\base_parser.py:1070: UserWarning: Parsing '31/01/2002' in DD/MM/YYYY format. Provide format or specify infer_datetime_format=True for consistent parsing.\n",
      "  return tools.to_datetime(\n",
      "C:\\Users\\Michael\\anaconda3\\lib\\site-packages\\pandas\\io\\parsers\\base_parser.py:1070: UserWarning: Parsing '28/02/2002' in DD/MM/YYYY format. Provide format or specify infer_datetime_format=True for consistent parsing.\n",
      "  return tools.to_datetime(\n",
      "C:\\Users\\Michael\\anaconda3\\lib\\site-packages\\pandas\\io\\parsers\\base_parser.py:1070: UserWarning: Parsing '31/03/2002' in DD/MM/YYYY format. Provide format or specify infer_datetime_format=True for consistent parsing.\n",
      "  return tools.to_datetime(\n",
      "C:\\Users\\Michael\\anaconda3\\lib\\site-packages\\pandas\\io\\parsers\\base_parser.py:1070: UserWarning: Parsing '30/04/2002' in DD/MM/YYYY format. Provide format or specify infer_datetime_format=True for consistent parsing.\n",
      "  return tools.to_datetime(\n",
      "C:\\Users\\Michael\\anaconda3\\lib\\site-packages\\pandas\\io\\parsers\\base_parser.py:1070: UserWarning: Parsing '31/05/2002' in DD/MM/YYYY format. Provide format or specify infer_datetime_format=True for consistent parsing.\n",
      "  return tools.to_datetime(\n",
      "C:\\Users\\Michael\\anaconda3\\lib\\site-packages\\pandas\\io\\parsers\\base_parser.py:1070: UserWarning: Parsing '30/06/2002' in DD/MM/YYYY format. Provide format or specify infer_datetime_format=True for consistent parsing.\n",
      "  return tools.to_datetime(\n",
      "C:\\Users\\Michael\\anaconda3\\lib\\site-packages\\pandas\\io\\parsers\\base_parser.py:1070: UserWarning: Parsing '31/07/2002' in DD/MM/YYYY format. Provide format or specify infer_datetime_format=True for consistent parsing.\n",
      "  return tools.to_datetime(\n",
      "C:\\Users\\Michael\\anaconda3\\lib\\site-packages\\pandas\\io\\parsers\\base_parser.py:1070: UserWarning: Parsing '31/08/2002' in DD/MM/YYYY format. Provide format or specify infer_datetime_format=True for consistent parsing.\n",
      "  return tools.to_datetime(\n",
      "C:\\Users\\Michael\\anaconda3\\lib\\site-packages\\pandas\\io\\parsers\\base_parser.py:1070: UserWarning: Parsing '30/09/2002' in DD/MM/YYYY format. Provide format or specify infer_datetime_format=True for consistent parsing.\n",
      "  return tools.to_datetime(\n",
      "C:\\Users\\Michael\\anaconda3\\lib\\site-packages\\pandas\\io\\parsers\\base_parser.py:1070: UserWarning: Parsing '31/10/2002' in DD/MM/YYYY format. Provide format or specify infer_datetime_format=True for consistent parsing.\n",
      "  return tools.to_datetime(\n",
      "C:\\Users\\Michael\\anaconda3\\lib\\site-packages\\pandas\\io\\parsers\\base_parser.py:1070: UserWarning: Parsing '30/11/2002' in DD/MM/YYYY format. Provide format or specify infer_datetime_format=True for consistent parsing.\n",
      "  return tools.to_datetime(\n",
      "C:\\Users\\Michael\\anaconda3\\lib\\site-packages\\pandas\\io\\parsers\\base_parser.py:1070: UserWarning: Parsing '31/12/2002' in DD/MM/YYYY format. Provide format or specify infer_datetime_format=True for consistent parsing.\n",
      "  return tools.to_datetime(\n",
      "C:\\Users\\Michael\\anaconda3\\lib\\site-packages\\pandas\\io\\parsers\\base_parser.py:1070: UserWarning: Parsing '31/01/2003' in DD/MM/YYYY format. Provide format or specify infer_datetime_format=True for consistent parsing.\n",
      "  return tools.to_datetime(\n",
      "C:\\Users\\Michael\\anaconda3\\lib\\site-packages\\pandas\\io\\parsers\\base_parser.py:1070: UserWarning: Parsing '28/02/2003' in DD/MM/YYYY format. Provide format or specify infer_datetime_format=True for consistent parsing.\n",
      "  return tools.to_datetime(\n",
      "C:\\Users\\Michael\\anaconda3\\lib\\site-packages\\pandas\\io\\parsers\\base_parser.py:1070: UserWarning: Parsing '31/03/2003' in DD/MM/YYYY format. Provide format or specify infer_datetime_format=True for consistent parsing.\n",
      "  return tools.to_datetime(\n",
      "C:\\Users\\Michael\\anaconda3\\lib\\site-packages\\pandas\\io\\parsers\\base_parser.py:1070: UserWarning: Parsing '30/04/2003' in DD/MM/YYYY format. Provide format or specify infer_datetime_format=True for consistent parsing.\n",
      "  return tools.to_datetime(\n",
      "C:\\Users\\Michael\\anaconda3\\lib\\site-packages\\pandas\\io\\parsers\\base_parser.py:1070: UserWarning: Parsing '31/05/2003' in DD/MM/YYYY format. Provide format or specify infer_datetime_format=True for consistent parsing.\n",
      "  return tools.to_datetime(\n",
      "C:\\Users\\Michael\\anaconda3\\lib\\site-packages\\pandas\\io\\parsers\\base_parser.py:1070: UserWarning: Parsing '30/06/2003' in DD/MM/YYYY format. Provide format or specify infer_datetime_format=True for consistent parsing.\n",
      "  return tools.to_datetime(\n",
      "C:\\Users\\Michael\\anaconda3\\lib\\site-packages\\pandas\\io\\parsers\\base_parser.py:1070: UserWarning: Parsing '31/07/2003' in DD/MM/YYYY format. Provide format or specify infer_datetime_format=True for consistent parsing.\n",
      "  return tools.to_datetime(\n",
      "C:\\Users\\Michael\\anaconda3\\lib\\site-packages\\pandas\\io\\parsers\\base_parser.py:1070: UserWarning: Parsing '31/08/2003' in DD/MM/YYYY format. Provide format or specify infer_datetime_format=True for consistent parsing.\n",
      "  return tools.to_datetime(\n",
      "C:\\Users\\Michael\\anaconda3\\lib\\site-packages\\pandas\\io\\parsers\\base_parser.py:1070: UserWarning: Parsing '30/09/2003' in DD/MM/YYYY format. Provide format or specify infer_datetime_format=True for consistent parsing.\n",
      "  return tools.to_datetime(\n",
      "C:\\Users\\Michael\\anaconda3\\lib\\site-packages\\pandas\\io\\parsers\\base_parser.py:1070: UserWarning: Parsing '31/10/2003' in DD/MM/YYYY format. Provide format or specify infer_datetime_format=True for consistent parsing.\n",
      "  return tools.to_datetime(\n",
      "C:\\Users\\Michael\\anaconda3\\lib\\site-packages\\pandas\\io\\parsers\\base_parser.py:1070: UserWarning: Parsing '30/11/2003' in DD/MM/YYYY format. Provide format or specify infer_datetime_format=True for consistent parsing.\n",
      "  return tools.to_datetime(\n",
      "C:\\Users\\Michael\\anaconda3\\lib\\site-packages\\pandas\\io\\parsers\\base_parser.py:1070: UserWarning: Parsing '31/12/2003' in DD/MM/YYYY format. Provide format or specify infer_datetime_format=True for consistent parsing.\n",
      "  return tools.to_datetime(\n",
      "C:\\Users\\Michael\\anaconda3\\lib\\site-packages\\pandas\\io\\parsers\\base_parser.py:1070: UserWarning: Parsing '31/01/2004' in DD/MM/YYYY format. Provide format or specify infer_datetime_format=True for consistent parsing.\n",
      "  return tools.to_datetime(\n",
      "C:\\Users\\Michael\\anaconda3\\lib\\site-packages\\pandas\\io\\parsers\\base_parser.py:1070: UserWarning: Parsing '29/02/2004' in DD/MM/YYYY format. Provide format or specify infer_datetime_format=True for consistent parsing.\n",
      "  return tools.to_datetime(\n",
      "C:\\Users\\Michael\\anaconda3\\lib\\site-packages\\pandas\\io\\parsers\\base_parser.py:1070: UserWarning: Parsing '31/03/2004' in DD/MM/YYYY format. Provide format or specify infer_datetime_format=True for consistent parsing.\n",
      "  return tools.to_datetime(\n",
      "C:\\Users\\Michael\\anaconda3\\lib\\site-packages\\pandas\\io\\parsers\\base_parser.py:1070: UserWarning: Parsing '30/04/2004' in DD/MM/YYYY format. Provide format or specify infer_datetime_format=True for consistent parsing.\n",
      "  return tools.to_datetime(\n",
      "C:\\Users\\Michael\\anaconda3\\lib\\site-packages\\pandas\\io\\parsers\\base_parser.py:1070: UserWarning: Parsing '31/05/2004' in DD/MM/YYYY format. Provide format or specify infer_datetime_format=True for consistent parsing.\n",
      "  return tools.to_datetime(\n",
      "C:\\Users\\Michael\\anaconda3\\lib\\site-packages\\pandas\\io\\parsers\\base_parser.py:1070: UserWarning: Parsing '30/06/2004' in DD/MM/YYYY format. Provide format or specify infer_datetime_format=True for consistent parsing.\n",
      "  return tools.to_datetime(\n",
      "C:\\Users\\Michael\\anaconda3\\lib\\site-packages\\pandas\\io\\parsers\\base_parser.py:1070: UserWarning: Parsing '31/07/2004' in DD/MM/YYYY format. Provide format or specify infer_datetime_format=True for consistent parsing.\n",
      "  return tools.to_datetime(\n",
      "C:\\Users\\Michael\\anaconda3\\lib\\site-packages\\pandas\\io\\parsers\\base_parser.py:1070: UserWarning: Parsing '31/08/2004' in DD/MM/YYYY format. Provide format or specify infer_datetime_format=True for consistent parsing.\n",
      "  return tools.to_datetime(\n",
      "C:\\Users\\Michael\\anaconda3\\lib\\site-packages\\pandas\\io\\parsers\\base_parser.py:1070: UserWarning: Parsing '30/09/2004' in DD/MM/YYYY format. Provide format or specify infer_datetime_format=True for consistent parsing.\n",
      "  return tools.to_datetime(\n",
      "C:\\Users\\Michael\\anaconda3\\lib\\site-packages\\pandas\\io\\parsers\\base_parser.py:1070: UserWarning: Parsing '31/10/2004' in DD/MM/YYYY format. Provide format or specify infer_datetime_format=True for consistent parsing.\n",
      "  return tools.to_datetime(\n",
      "C:\\Users\\Michael\\anaconda3\\lib\\site-packages\\pandas\\io\\parsers\\base_parser.py:1070: UserWarning: Parsing '30/11/2004' in DD/MM/YYYY format. Provide format or specify infer_datetime_format=True for consistent parsing.\n",
      "  return tools.to_datetime(\n",
      "C:\\Users\\Michael\\anaconda3\\lib\\site-packages\\pandas\\io\\parsers\\base_parser.py:1070: UserWarning: Parsing '31/12/2004' in DD/MM/YYYY format. Provide format or specify infer_datetime_format=True for consistent parsing.\n",
      "  return tools.to_datetime(\n",
      "C:\\Users\\Michael\\anaconda3\\lib\\site-packages\\pandas\\io\\parsers\\base_parser.py:1070: UserWarning: Parsing '31/01/2005' in DD/MM/YYYY format. Provide format or specify infer_datetime_format=True for consistent parsing.\n",
      "  return tools.to_datetime(\n",
      "C:\\Users\\Michael\\anaconda3\\lib\\site-packages\\pandas\\io\\parsers\\base_parser.py:1070: UserWarning: Parsing '28/02/2005' in DD/MM/YYYY format. Provide format or specify infer_datetime_format=True for consistent parsing.\n",
      "  return tools.to_datetime(\n",
      "C:\\Users\\Michael\\anaconda3\\lib\\site-packages\\pandas\\io\\parsers\\base_parser.py:1070: UserWarning: Parsing '31/03/2005' in DD/MM/YYYY format. Provide format or specify infer_datetime_format=True for consistent parsing.\n",
      "  return tools.to_datetime(\n",
      "C:\\Users\\Michael\\anaconda3\\lib\\site-packages\\pandas\\io\\parsers\\base_parser.py:1070: UserWarning: Parsing '30/04/2005' in DD/MM/YYYY format. Provide format or specify infer_datetime_format=True for consistent parsing.\n",
      "  return tools.to_datetime(\n",
      "C:\\Users\\Michael\\anaconda3\\lib\\site-packages\\pandas\\io\\parsers\\base_parser.py:1070: UserWarning: Parsing '31/05/2005' in DD/MM/YYYY format. Provide format or specify infer_datetime_format=True for consistent parsing.\n",
      "  return tools.to_datetime(\n",
      "C:\\Users\\Michael\\anaconda3\\lib\\site-packages\\pandas\\io\\parsers\\base_parser.py:1070: UserWarning: Parsing '30/06/2005' in DD/MM/YYYY format. Provide format or specify infer_datetime_format=True for consistent parsing.\n",
      "  return tools.to_datetime(\n",
      "C:\\Users\\Michael\\anaconda3\\lib\\site-packages\\pandas\\io\\parsers\\base_parser.py:1070: UserWarning: Parsing '31/07/2005' in DD/MM/YYYY format. Provide format or specify infer_datetime_format=True for consistent parsing.\n",
      "  return tools.to_datetime(\n",
      "C:\\Users\\Michael\\anaconda3\\lib\\site-packages\\pandas\\io\\parsers\\base_parser.py:1070: UserWarning: Parsing '31/08/2005' in DD/MM/YYYY format. Provide format or specify infer_datetime_format=True for consistent parsing.\n",
      "  return tools.to_datetime(\n",
      "C:\\Users\\Michael\\anaconda3\\lib\\site-packages\\pandas\\io\\parsers\\base_parser.py:1070: UserWarning: Parsing '30/09/2005' in DD/MM/YYYY format. Provide format or specify infer_datetime_format=True for consistent parsing.\n",
      "  return tools.to_datetime(\n",
      "C:\\Users\\Michael\\anaconda3\\lib\\site-packages\\pandas\\io\\parsers\\base_parser.py:1070: UserWarning: Parsing '31/10/2005' in DD/MM/YYYY format. Provide format or specify infer_datetime_format=True for consistent parsing.\n",
      "  return tools.to_datetime(\n",
      "C:\\Users\\Michael\\anaconda3\\lib\\site-packages\\pandas\\io\\parsers\\base_parser.py:1070: UserWarning: Parsing '30/11/2005' in DD/MM/YYYY format. Provide format or specify infer_datetime_format=True for consistent parsing.\n",
      "  return tools.to_datetime(\n",
      "C:\\Users\\Michael\\anaconda3\\lib\\site-packages\\pandas\\io\\parsers\\base_parser.py:1070: UserWarning: Parsing '31/12/2005' in DD/MM/YYYY format. Provide format or specify infer_datetime_format=True for consistent parsing.\n",
      "  return tools.to_datetime(\n",
      "C:\\Users\\Michael\\anaconda3\\lib\\site-packages\\pandas\\io\\parsers\\base_parser.py:1070: UserWarning: Parsing '31/01/2006' in DD/MM/YYYY format. Provide format or specify infer_datetime_format=True for consistent parsing.\n",
      "  return tools.to_datetime(\n",
      "C:\\Users\\Michael\\anaconda3\\lib\\site-packages\\pandas\\io\\parsers\\base_parser.py:1070: UserWarning: Parsing '28/02/2006' in DD/MM/YYYY format. Provide format or specify infer_datetime_format=True for consistent parsing.\n",
      "  return tools.to_datetime(\n",
      "C:\\Users\\Michael\\anaconda3\\lib\\site-packages\\pandas\\io\\parsers\\base_parser.py:1070: UserWarning: Parsing '31/03/2006' in DD/MM/YYYY format. Provide format or specify infer_datetime_format=True for consistent parsing.\n",
      "  return tools.to_datetime(\n",
      "C:\\Users\\Michael\\anaconda3\\lib\\site-packages\\pandas\\io\\parsers\\base_parser.py:1070: UserWarning: Parsing '30/04/2006' in DD/MM/YYYY format. Provide format or specify infer_datetime_format=True for consistent parsing.\n",
      "  return tools.to_datetime(\n",
      "C:\\Users\\Michael\\anaconda3\\lib\\site-packages\\pandas\\io\\parsers\\base_parser.py:1070: UserWarning: Parsing '31/05/2006' in DD/MM/YYYY format. Provide format or specify infer_datetime_format=True for consistent parsing.\n",
      "  return tools.to_datetime(\n",
      "C:\\Users\\Michael\\anaconda3\\lib\\site-packages\\pandas\\io\\parsers\\base_parser.py:1070: UserWarning: Parsing '30/06/2006' in DD/MM/YYYY format. Provide format or specify infer_datetime_format=True for consistent parsing.\n",
      "  return tools.to_datetime(\n",
      "C:\\Users\\Michael\\anaconda3\\lib\\site-packages\\pandas\\io\\parsers\\base_parser.py:1070: UserWarning: Parsing '31/07/2006' in DD/MM/YYYY format. Provide format or specify infer_datetime_format=True for consistent parsing.\n",
      "  return tools.to_datetime(\n",
      "C:\\Users\\Michael\\anaconda3\\lib\\site-packages\\pandas\\io\\parsers\\base_parser.py:1070: UserWarning: Parsing '31/08/2006' in DD/MM/YYYY format. Provide format or specify infer_datetime_format=True for consistent parsing.\n",
      "  return tools.to_datetime(\n",
      "C:\\Users\\Michael\\anaconda3\\lib\\site-packages\\pandas\\io\\parsers\\base_parser.py:1070: UserWarning: Parsing '30/09/2006' in DD/MM/YYYY format. Provide format or specify infer_datetime_format=True for consistent parsing.\n",
      "  return tools.to_datetime(\n",
      "C:\\Users\\Michael\\anaconda3\\lib\\site-packages\\pandas\\io\\parsers\\base_parser.py:1070: UserWarning: Parsing '31/10/2006' in DD/MM/YYYY format. Provide format or specify infer_datetime_format=True for consistent parsing.\n",
      "  return tools.to_datetime(\n",
      "C:\\Users\\Michael\\anaconda3\\lib\\site-packages\\pandas\\io\\parsers\\base_parser.py:1070: UserWarning: Parsing '30/11/2006' in DD/MM/YYYY format. Provide format or specify infer_datetime_format=True for consistent parsing.\n",
      "  return tools.to_datetime(\n",
      "C:\\Users\\Michael\\anaconda3\\lib\\site-packages\\pandas\\io\\parsers\\base_parser.py:1070: UserWarning: Parsing '31/12/2006' in DD/MM/YYYY format. Provide format or specify infer_datetime_format=True for consistent parsing.\n",
      "  return tools.to_datetime(\n",
      "C:\\Users\\Michael\\anaconda3\\lib\\site-packages\\pandas\\io\\parsers\\base_parser.py:1070: UserWarning: Parsing '31/01/2007' in DD/MM/YYYY format. Provide format or specify infer_datetime_format=True for consistent parsing.\n",
      "  return tools.to_datetime(\n",
      "C:\\Users\\Michael\\anaconda3\\lib\\site-packages\\pandas\\io\\parsers\\base_parser.py:1070: UserWarning: Parsing '28/02/2007' in DD/MM/YYYY format. Provide format or specify infer_datetime_format=True for consistent parsing.\n",
      "  return tools.to_datetime(\n",
      "C:\\Users\\Michael\\anaconda3\\lib\\site-packages\\pandas\\io\\parsers\\base_parser.py:1070: UserWarning: Parsing '31/03/2007' in DD/MM/YYYY format. Provide format or specify infer_datetime_format=True for consistent parsing.\n",
      "  return tools.to_datetime(\n",
      "C:\\Users\\Michael\\anaconda3\\lib\\site-packages\\pandas\\io\\parsers\\base_parser.py:1070: UserWarning: Parsing '30/04/2007' in DD/MM/YYYY format. Provide format or specify infer_datetime_format=True for consistent parsing.\n",
      "  return tools.to_datetime(\n",
      "C:\\Users\\Michael\\anaconda3\\lib\\site-packages\\pandas\\io\\parsers\\base_parser.py:1070: UserWarning: Parsing '31/05/2007' in DD/MM/YYYY format. Provide format or specify infer_datetime_format=True for consistent parsing.\n",
      "  return tools.to_datetime(\n",
      "C:\\Users\\Michael\\anaconda3\\lib\\site-packages\\pandas\\io\\parsers\\base_parser.py:1070: UserWarning: Parsing '30/06/2007' in DD/MM/YYYY format. Provide format or specify infer_datetime_format=True for consistent parsing.\n",
      "  return tools.to_datetime(\n",
      "C:\\Users\\Michael\\anaconda3\\lib\\site-packages\\pandas\\io\\parsers\\base_parser.py:1070: UserWarning: Parsing '31/07/2007' in DD/MM/YYYY format. Provide format or specify infer_datetime_format=True for consistent parsing.\n",
      "  return tools.to_datetime(\n",
      "C:\\Users\\Michael\\anaconda3\\lib\\site-packages\\pandas\\io\\parsers\\base_parser.py:1070: UserWarning: Parsing '31/08/2007' in DD/MM/YYYY format. Provide format or specify infer_datetime_format=True for consistent parsing.\n",
      "  return tools.to_datetime(\n",
      "C:\\Users\\Michael\\anaconda3\\lib\\site-packages\\pandas\\io\\parsers\\base_parser.py:1070: UserWarning: Parsing '30/09/2007' in DD/MM/YYYY format. Provide format or specify infer_datetime_format=True for consistent parsing.\n",
      "  return tools.to_datetime(\n",
      "C:\\Users\\Michael\\anaconda3\\lib\\site-packages\\pandas\\io\\parsers\\base_parser.py:1070: UserWarning: Parsing '31/10/2007' in DD/MM/YYYY format. Provide format or specify infer_datetime_format=True for consistent parsing.\n",
      "  return tools.to_datetime(\n",
      "C:\\Users\\Michael\\anaconda3\\lib\\site-packages\\pandas\\io\\parsers\\base_parser.py:1070: UserWarning: Parsing '30/11/2007' in DD/MM/YYYY format. Provide format or specify infer_datetime_format=True for consistent parsing.\n",
      "  return tools.to_datetime(\n",
      "C:\\Users\\Michael\\anaconda3\\lib\\site-packages\\pandas\\io\\parsers\\base_parser.py:1070: UserWarning: Parsing '31/12/2007' in DD/MM/YYYY format. Provide format or specify infer_datetime_format=True for consistent parsing.\n",
      "  return tools.to_datetime(\n",
      "C:\\Users\\Michael\\anaconda3\\lib\\site-packages\\pandas\\io\\parsers\\base_parser.py:1070: UserWarning: Parsing '31/01/2008' in DD/MM/YYYY format. Provide format or specify infer_datetime_format=True for consistent parsing.\n",
      "  return tools.to_datetime(\n",
      "C:\\Users\\Michael\\anaconda3\\lib\\site-packages\\pandas\\io\\parsers\\base_parser.py:1070: UserWarning: Parsing '29/02/2008' in DD/MM/YYYY format. Provide format or specify infer_datetime_format=True for consistent parsing.\n",
      "  return tools.to_datetime(\n",
      "C:\\Users\\Michael\\anaconda3\\lib\\site-packages\\pandas\\io\\parsers\\base_parser.py:1070: UserWarning: Parsing '31/03/2008' in DD/MM/YYYY format. Provide format or specify infer_datetime_format=True for consistent parsing.\n",
      "  return tools.to_datetime(\n",
      "C:\\Users\\Michael\\anaconda3\\lib\\site-packages\\pandas\\io\\parsers\\base_parser.py:1070: UserWarning: Parsing '30/04/2008' in DD/MM/YYYY format. Provide format or specify infer_datetime_format=True for consistent parsing.\n",
      "  return tools.to_datetime(\n",
      "C:\\Users\\Michael\\anaconda3\\lib\\site-packages\\pandas\\io\\parsers\\base_parser.py:1070: UserWarning: Parsing '31/05/2008' in DD/MM/YYYY format. Provide format or specify infer_datetime_format=True for consistent parsing.\n",
      "  return tools.to_datetime(\n",
      "C:\\Users\\Michael\\anaconda3\\lib\\site-packages\\pandas\\io\\parsers\\base_parser.py:1070: UserWarning: Parsing '30/06/2008' in DD/MM/YYYY format. Provide format or specify infer_datetime_format=True for consistent parsing.\n",
      "  return tools.to_datetime(\n",
      "C:\\Users\\Michael\\anaconda3\\lib\\site-packages\\pandas\\io\\parsers\\base_parser.py:1070: UserWarning: Parsing '31/07/2008' in DD/MM/YYYY format. Provide format or specify infer_datetime_format=True for consistent parsing.\n",
      "  return tools.to_datetime(\n",
      "C:\\Users\\Michael\\anaconda3\\lib\\site-packages\\pandas\\io\\parsers\\base_parser.py:1070: UserWarning: Parsing '31/08/2008' in DD/MM/YYYY format. Provide format or specify infer_datetime_format=True for consistent parsing.\n",
      "  return tools.to_datetime(\n",
      "C:\\Users\\Michael\\anaconda3\\lib\\site-packages\\pandas\\io\\parsers\\base_parser.py:1070: UserWarning: Parsing '30/09/2008' in DD/MM/YYYY format. Provide format or specify infer_datetime_format=True for consistent parsing.\n",
      "  return tools.to_datetime(\n",
      "C:\\Users\\Michael\\anaconda3\\lib\\site-packages\\pandas\\io\\parsers\\base_parser.py:1070: UserWarning: Parsing '31/10/2008' in DD/MM/YYYY format. Provide format or specify infer_datetime_format=True for consistent parsing.\n",
      "  return tools.to_datetime(\n",
      "C:\\Users\\Michael\\anaconda3\\lib\\site-packages\\pandas\\io\\parsers\\base_parser.py:1070: UserWarning: Parsing '30/11/2008' in DD/MM/YYYY format. Provide format or specify infer_datetime_format=True for consistent parsing.\n",
      "  return tools.to_datetime(\n",
      "C:\\Users\\Michael\\anaconda3\\lib\\site-packages\\pandas\\io\\parsers\\base_parser.py:1070: UserWarning: Parsing '31/12/2008' in DD/MM/YYYY format. Provide format or specify infer_datetime_format=True for consistent parsing.\n",
      "  return tools.to_datetime(\n",
      "C:\\Users\\Michael\\anaconda3\\lib\\site-packages\\pandas\\io\\parsers\\base_parser.py:1070: UserWarning: Parsing '31/01/2009' in DD/MM/YYYY format. Provide format or specify infer_datetime_format=True for consistent parsing.\n",
      "  return tools.to_datetime(\n",
      "C:\\Users\\Michael\\anaconda3\\lib\\site-packages\\pandas\\io\\parsers\\base_parser.py:1070: UserWarning: Parsing '28/02/2009' in DD/MM/YYYY format. Provide format or specify infer_datetime_format=True for consistent parsing.\n",
      "  return tools.to_datetime(\n",
      "C:\\Users\\Michael\\anaconda3\\lib\\site-packages\\pandas\\io\\parsers\\base_parser.py:1070: UserWarning: Parsing '31/03/2009' in DD/MM/YYYY format. Provide format or specify infer_datetime_format=True for consistent parsing.\n",
      "  return tools.to_datetime(\n",
      "C:\\Users\\Michael\\anaconda3\\lib\\site-packages\\pandas\\io\\parsers\\base_parser.py:1070: UserWarning: Parsing '30/04/2009' in DD/MM/YYYY format. Provide format or specify infer_datetime_format=True for consistent parsing.\n",
      "  return tools.to_datetime(\n",
      "C:\\Users\\Michael\\anaconda3\\lib\\site-packages\\pandas\\io\\parsers\\base_parser.py:1070: UserWarning: Parsing '31/05/2009' in DD/MM/YYYY format. Provide format or specify infer_datetime_format=True for consistent parsing.\n",
      "  return tools.to_datetime(\n",
      "C:\\Users\\Michael\\anaconda3\\lib\\site-packages\\pandas\\io\\parsers\\base_parser.py:1070: UserWarning: Parsing '30/06/2009' in DD/MM/YYYY format. Provide format or specify infer_datetime_format=True for consistent parsing.\n",
      "  return tools.to_datetime(\n",
      "C:\\Users\\Michael\\anaconda3\\lib\\site-packages\\pandas\\io\\parsers\\base_parser.py:1070: UserWarning: Parsing '31/07/2009' in DD/MM/YYYY format. Provide format or specify infer_datetime_format=True for consistent parsing.\n",
      "  return tools.to_datetime(\n",
      "C:\\Users\\Michael\\anaconda3\\lib\\site-packages\\pandas\\io\\parsers\\base_parser.py:1070: UserWarning: Parsing '31/08/2009' in DD/MM/YYYY format. Provide format or specify infer_datetime_format=True for consistent parsing.\n",
      "  return tools.to_datetime(\n",
      "C:\\Users\\Michael\\anaconda3\\lib\\site-packages\\pandas\\io\\parsers\\base_parser.py:1070: UserWarning: Parsing '30/09/2009' in DD/MM/YYYY format. Provide format or specify infer_datetime_format=True for consistent parsing.\n",
      "  return tools.to_datetime(\n",
      "C:\\Users\\Michael\\anaconda3\\lib\\site-packages\\pandas\\io\\parsers\\base_parser.py:1070: UserWarning: Parsing '31/10/2009' in DD/MM/YYYY format. Provide format or specify infer_datetime_format=True for consistent parsing.\n",
      "  return tools.to_datetime(\n",
      "C:\\Users\\Michael\\anaconda3\\lib\\site-packages\\pandas\\io\\parsers\\base_parser.py:1070: UserWarning: Parsing '30/11/2009' in DD/MM/YYYY format. Provide format or specify infer_datetime_format=True for consistent parsing.\n",
      "  return tools.to_datetime(\n",
      "C:\\Users\\Michael\\anaconda3\\lib\\site-packages\\pandas\\io\\parsers\\base_parser.py:1070: UserWarning: Parsing '31/12/2009' in DD/MM/YYYY format. Provide format or specify infer_datetime_format=True for consistent parsing.\n",
      "  return tools.to_datetime(\n",
      "C:\\Users\\Michael\\anaconda3\\lib\\site-packages\\pandas\\io\\parsers\\base_parser.py:1070: UserWarning: Parsing '31/01/2010' in DD/MM/YYYY format. Provide format or specify infer_datetime_format=True for consistent parsing.\n",
      "  return tools.to_datetime(\n",
      "C:\\Users\\Michael\\anaconda3\\lib\\site-packages\\pandas\\io\\parsers\\base_parser.py:1070: UserWarning: Parsing '28/02/2010' in DD/MM/YYYY format. Provide format or specify infer_datetime_format=True for consistent parsing.\n",
      "  return tools.to_datetime(\n",
      "C:\\Users\\Michael\\anaconda3\\lib\\site-packages\\pandas\\io\\parsers\\base_parser.py:1070: UserWarning: Parsing '31/03/2010' in DD/MM/YYYY format. Provide format or specify infer_datetime_format=True for consistent parsing.\n",
      "  return tools.to_datetime(\n",
      "C:\\Users\\Michael\\anaconda3\\lib\\site-packages\\pandas\\io\\parsers\\base_parser.py:1070: UserWarning: Parsing '30/04/2010' in DD/MM/YYYY format. Provide format or specify infer_datetime_format=True for consistent parsing.\n",
      "  return tools.to_datetime(\n",
      "C:\\Users\\Michael\\anaconda3\\lib\\site-packages\\pandas\\io\\parsers\\base_parser.py:1070: UserWarning: Parsing '31/05/2010' in DD/MM/YYYY format. Provide format or specify infer_datetime_format=True for consistent parsing.\n",
      "  return tools.to_datetime(\n",
      "C:\\Users\\Michael\\anaconda3\\lib\\site-packages\\pandas\\io\\parsers\\base_parser.py:1070: UserWarning: Parsing '30/06/2010' in DD/MM/YYYY format. Provide format or specify infer_datetime_format=True for consistent parsing.\n",
      "  return tools.to_datetime(\n",
      "C:\\Users\\Michael\\anaconda3\\lib\\site-packages\\pandas\\io\\parsers\\base_parser.py:1070: UserWarning: Parsing '31/07/2010' in DD/MM/YYYY format. Provide format or specify infer_datetime_format=True for consistent parsing.\n",
      "  return tools.to_datetime(\n",
      "C:\\Users\\Michael\\anaconda3\\lib\\site-packages\\pandas\\io\\parsers\\base_parser.py:1070: UserWarning: Parsing '31/08/2010' in DD/MM/YYYY format. Provide format or specify infer_datetime_format=True for consistent parsing.\n",
      "  return tools.to_datetime(\n",
      "C:\\Users\\Michael\\anaconda3\\lib\\site-packages\\pandas\\io\\parsers\\base_parser.py:1070: UserWarning: Parsing '30/09/2010' in DD/MM/YYYY format. Provide format or specify infer_datetime_format=True for consistent parsing.\n",
      "  return tools.to_datetime(\n",
      "C:\\Users\\Michael\\anaconda3\\lib\\site-packages\\pandas\\io\\parsers\\base_parser.py:1070: UserWarning: Parsing '31/10/2010' in DD/MM/YYYY format. Provide format or specify infer_datetime_format=True for consistent parsing.\n",
      "  return tools.to_datetime(\n",
      "C:\\Users\\Michael\\anaconda3\\lib\\site-packages\\pandas\\io\\parsers\\base_parser.py:1070: UserWarning: Parsing '30/11/2010' in DD/MM/YYYY format. Provide format or specify infer_datetime_format=True for consistent parsing.\n",
      "  return tools.to_datetime(\n",
      "C:\\Users\\Michael\\anaconda3\\lib\\site-packages\\pandas\\io\\parsers\\base_parser.py:1070: UserWarning: Parsing '31/12/2010' in DD/MM/YYYY format. Provide format or specify infer_datetime_format=True for consistent parsing.\n",
      "  return tools.to_datetime(\n",
      "C:\\Users\\Michael\\anaconda3\\lib\\site-packages\\pandas\\io\\parsers\\base_parser.py:1070: UserWarning: Parsing '31/01/2011' in DD/MM/YYYY format. Provide format or specify infer_datetime_format=True for consistent parsing.\n",
      "  return tools.to_datetime(\n",
      "C:\\Users\\Michael\\anaconda3\\lib\\site-packages\\pandas\\io\\parsers\\base_parser.py:1070: UserWarning: Parsing '28/02/2011' in DD/MM/YYYY format. Provide format or specify infer_datetime_format=True for consistent parsing.\n",
      "  return tools.to_datetime(\n",
      "C:\\Users\\Michael\\anaconda3\\lib\\site-packages\\pandas\\io\\parsers\\base_parser.py:1070: UserWarning: Parsing '31/03/2011' in DD/MM/YYYY format. Provide format or specify infer_datetime_format=True for consistent parsing.\n",
      "  return tools.to_datetime(\n",
      "C:\\Users\\Michael\\anaconda3\\lib\\site-packages\\pandas\\io\\parsers\\base_parser.py:1070: UserWarning: Parsing '30/04/2011' in DD/MM/YYYY format. Provide format or specify infer_datetime_format=True for consistent parsing.\n",
      "  return tools.to_datetime(\n",
      "C:\\Users\\Michael\\anaconda3\\lib\\site-packages\\pandas\\io\\parsers\\base_parser.py:1070: UserWarning: Parsing '31/05/2011' in DD/MM/YYYY format. Provide format or specify infer_datetime_format=True for consistent parsing.\n",
      "  return tools.to_datetime(\n",
      "C:\\Users\\Michael\\anaconda3\\lib\\site-packages\\pandas\\io\\parsers\\base_parser.py:1070: UserWarning: Parsing '30/06/2011' in DD/MM/YYYY format. Provide format or specify infer_datetime_format=True for consistent parsing.\n",
      "  return tools.to_datetime(\n",
      "C:\\Users\\Michael\\anaconda3\\lib\\site-packages\\pandas\\io\\parsers\\base_parser.py:1070: UserWarning: Parsing '31/07/2011' in DD/MM/YYYY format. Provide format or specify infer_datetime_format=True for consistent parsing.\n",
      "  return tools.to_datetime(\n",
      "C:\\Users\\Michael\\anaconda3\\lib\\site-packages\\pandas\\io\\parsers\\base_parser.py:1070: UserWarning: Parsing '31/08/2011' in DD/MM/YYYY format. Provide format or specify infer_datetime_format=True for consistent parsing.\n",
      "  return tools.to_datetime(\n",
      "C:\\Users\\Michael\\anaconda3\\lib\\site-packages\\pandas\\io\\parsers\\base_parser.py:1070: UserWarning: Parsing '30/09/2011' in DD/MM/YYYY format. Provide format or specify infer_datetime_format=True for consistent parsing.\n",
      "  return tools.to_datetime(\n",
      "C:\\Users\\Michael\\anaconda3\\lib\\site-packages\\pandas\\io\\parsers\\base_parser.py:1070: UserWarning: Parsing '31/10/2011' in DD/MM/YYYY format. Provide format or specify infer_datetime_format=True for consistent parsing.\n",
      "  return tools.to_datetime(\n",
      "C:\\Users\\Michael\\anaconda3\\lib\\site-packages\\pandas\\io\\parsers\\base_parser.py:1070: UserWarning: Parsing '30/11/2011' in DD/MM/YYYY format. Provide format or specify infer_datetime_format=True for consistent parsing.\n",
      "  return tools.to_datetime(\n",
      "C:\\Users\\Michael\\anaconda3\\lib\\site-packages\\pandas\\io\\parsers\\base_parser.py:1070: UserWarning: Parsing '31/12/2011' in DD/MM/YYYY format. Provide format or specify infer_datetime_format=True for consistent parsing.\n",
      "  return tools.to_datetime(\n",
      "C:\\Users\\Michael\\anaconda3\\lib\\site-packages\\pandas\\io\\parsers\\base_parser.py:1070: UserWarning: Parsing '31/01/2012' in DD/MM/YYYY format. Provide format or specify infer_datetime_format=True for consistent parsing.\n",
      "  return tools.to_datetime(\n",
      "C:\\Users\\Michael\\anaconda3\\lib\\site-packages\\pandas\\io\\parsers\\base_parser.py:1070: UserWarning: Parsing '29/02/2012' in DD/MM/YYYY format. Provide format or specify infer_datetime_format=True for consistent parsing.\n",
      "  return tools.to_datetime(\n",
      "C:\\Users\\Michael\\anaconda3\\lib\\site-packages\\pandas\\io\\parsers\\base_parser.py:1070: UserWarning: Parsing '31/03/2012' in DD/MM/YYYY format. Provide format or specify infer_datetime_format=True for consistent parsing.\n",
      "  return tools.to_datetime(\n",
      "C:\\Users\\Michael\\anaconda3\\lib\\site-packages\\pandas\\io\\parsers\\base_parser.py:1070: UserWarning: Parsing '30/04/2012' in DD/MM/YYYY format. Provide format or specify infer_datetime_format=True for consistent parsing.\n",
      "  return tools.to_datetime(\n",
      "C:\\Users\\Michael\\anaconda3\\lib\\site-packages\\pandas\\io\\parsers\\base_parser.py:1070: UserWarning: Parsing '31/05/2012' in DD/MM/YYYY format. Provide format or specify infer_datetime_format=True for consistent parsing.\n",
      "  return tools.to_datetime(\n",
      "C:\\Users\\Michael\\anaconda3\\lib\\site-packages\\pandas\\io\\parsers\\base_parser.py:1070: UserWarning: Parsing '30/06/2012' in DD/MM/YYYY format. Provide format or specify infer_datetime_format=True for consistent parsing.\n",
      "  return tools.to_datetime(\n",
      "C:\\Users\\Michael\\anaconda3\\lib\\site-packages\\pandas\\io\\parsers\\base_parser.py:1070: UserWarning: Parsing '31/07/2012' in DD/MM/YYYY format. Provide format or specify infer_datetime_format=True for consistent parsing.\n",
      "  return tools.to_datetime(\n",
      "C:\\Users\\Michael\\anaconda3\\lib\\site-packages\\pandas\\io\\parsers\\base_parser.py:1070: UserWarning: Parsing '31/08/2012' in DD/MM/YYYY format. Provide format or specify infer_datetime_format=True for consistent parsing.\n",
      "  return tools.to_datetime(\n",
      "C:\\Users\\Michael\\anaconda3\\lib\\site-packages\\pandas\\io\\parsers\\base_parser.py:1070: UserWarning: Parsing '30/09/2012' in DD/MM/YYYY format. Provide format or specify infer_datetime_format=True for consistent parsing.\n",
      "  return tools.to_datetime(\n",
      "C:\\Users\\Michael\\anaconda3\\lib\\site-packages\\pandas\\io\\parsers\\base_parser.py:1070: UserWarning: Parsing '31/10/2012' in DD/MM/YYYY format. Provide format or specify infer_datetime_format=True for consistent parsing.\n",
      "  return tools.to_datetime(\n",
      "C:\\Users\\Michael\\anaconda3\\lib\\site-packages\\pandas\\io\\parsers\\base_parser.py:1070: UserWarning: Parsing '30/11/2012' in DD/MM/YYYY format. Provide format or specify infer_datetime_format=True for consistent parsing.\n",
      "  return tools.to_datetime(\n",
      "C:\\Users\\Michael\\anaconda3\\lib\\site-packages\\pandas\\io\\parsers\\base_parser.py:1070: UserWarning: Parsing '31/12/2012' in DD/MM/YYYY format. Provide format or specify infer_datetime_format=True for consistent parsing.\n",
      "  return tools.to_datetime(\n",
      "C:\\Users\\Michael\\anaconda3\\lib\\site-packages\\pandas\\io\\parsers\\base_parser.py:1070: UserWarning: Parsing '31/01/2013' in DD/MM/YYYY format. Provide format or specify infer_datetime_format=True for consistent parsing.\n",
      "  return tools.to_datetime(\n",
      "C:\\Users\\Michael\\anaconda3\\lib\\site-packages\\pandas\\io\\parsers\\base_parser.py:1070: UserWarning: Parsing '28/02/2013' in DD/MM/YYYY format. Provide format or specify infer_datetime_format=True for consistent parsing.\n",
      "  return tools.to_datetime(\n",
      "C:\\Users\\Michael\\anaconda3\\lib\\site-packages\\pandas\\io\\parsers\\base_parser.py:1070: UserWarning: Parsing '31/03/2013' in DD/MM/YYYY format. Provide format or specify infer_datetime_format=True for consistent parsing.\n",
      "  return tools.to_datetime(\n",
      "C:\\Users\\Michael\\anaconda3\\lib\\site-packages\\pandas\\io\\parsers\\base_parser.py:1070: UserWarning: Parsing '30/04/2013' in DD/MM/YYYY format. Provide format or specify infer_datetime_format=True for consistent parsing.\n",
      "  return tools.to_datetime(\n",
      "C:\\Users\\Michael\\anaconda3\\lib\\site-packages\\pandas\\io\\parsers\\base_parser.py:1070: UserWarning: Parsing '31/05/2013' in DD/MM/YYYY format. Provide format or specify infer_datetime_format=True for consistent parsing.\n",
      "  return tools.to_datetime(\n",
      "C:\\Users\\Michael\\anaconda3\\lib\\site-packages\\pandas\\io\\parsers\\base_parser.py:1070: UserWarning: Parsing '30/06/2013' in DD/MM/YYYY format. Provide format or specify infer_datetime_format=True for consistent parsing.\n",
      "  return tools.to_datetime(\n",
      "C:\\Users\\Michael\\anaconda3\\lib\\site-packages\\pandas\\io\\parsers\\base_parser.py:1070: UserWarning: Parsing '31/07/2013' in DD/MM/YYYY format. Provide format or specify infer_datetime_format=True for consistent parsing.\n",
      "  return tools.to_datetime(\n",
      "C:\\Users\\Michael\\anaconda3\\lib\\site-packages\\pandas\\io\\parsers\\base_parser.py:1070: UserWarning: Parsing '31/08/2013' in DD/MM/YYYY format. Provide format or specify infer_datetime_format=True for consistent parsing.\n",
      "  return tools.to_datetime(\n",
      "C:\\Users\\Michael\\anaconda3\\lib\\site-packages\\pandas\\io\\parsers\\base_parser.py:1070: UserWarning: Parsing '30/09/2013' in DD/MM/YYYY format. Provide format or specify infer_datetime_format=True for consistent parsing.\n",
      "  return tools.to_datetime(\n",
      "C:\\Users\\Michael\\anaconda3\\lib\\site-packages\\pandas\\io\\parsers\\base_parser.py:1070: UserWarning: Parsing '31/10/2013' in DD/MM/YYYY format. Provide format or specify infer_datetime_format=True for consistent parsing.\n",
      "  return tools.to_datetime(\n",
      "C:\\Users\\Michael\\anaconda3\\lib\\site-packages\\pandas\\io\\parsers\\base_parser.py:1070: UserWarning: Parsing '30/11/2013' in DD/MM/YYYY format. Provide format or specify infer_datetime_format=True for consistent parsing.\n",
      "  return tools.to_datetime(\n",
      "C:\\Users\\Michael\\anaconda3\\lib\\site-packages\\pandas\\io\\parsers\\base_parser.py:1070: UserWarning: Parsing '31/12/2013' in DD/MM/YYYY format. Provide format or specify infer_datetime_format=True for consistent parsing.\n",
      "  return tools.to_datetime(\n",
      "C:\\Users\\Michael\\anaconda3\\lib\\site-packages\\pandas\\io\\parsers\\base_parser.py:1070: UserWarning: Parsing '31/01/2014' in DD/MM/YYYY format. Provide format or specify infer_datetime_format=True for consistent parsing.\n",
      "  return tools.to_datetime(\n",
      "C:\\Users\\Michael\\anaconda3\\lib\\site-packages\\pandas\\io\\parsers\\base_parser.py:1070: UserWarning: Parsing '28/02/2014' in DD/MM/YYYY format. Provide format or specify infer_datetime_format=True for consistent parsing.\n",
      "  return tools.to_datetime(\n",
      "C:\\Users\\Michael\\anaconda3\\lib\\site-packages\\pandas\\io\\parsers\\base_parser.py:1070: UserWarning: Parsing '31/03/2014' in DD/MM/YYYY format. Provide format or specify infer_datetime_format=True for consistent parsing.\n",
      "  return tools.to_datetime(\n",
      "C:\\Users\\Michael\\anaconda3\\lib\\site-packages\\pandas\\io\\parsers\\base_parser.py:1070: UserWarning: Parsing '30/04/2014' in DD/MM/YYYY format. Provide format or specify infer_datetime_format=True for consistent parsing.\n",
      "  return tools.to_datetime(\n",
      "C:\\Users\\Michael\\anaconda3\\lib\\site-packages\\pandas\\io\\parsers\\base_parser.py:1070: UserWarning: Parsing '31/05/2014' in DD/MM/YYYY format. Provide format or specify infer_datetime_format=True for consistent parsing.\n",
      "  return tools.to_datetime(\n",
      "C:\\Users\\Michael\\anaconda3\\lib\\site-packages\\pandas\\io\\parsers\\base_parser.py:1070: UserWarning: Parsing '30/06/2014' in DD/MM/YYYY format. Provide format or specify infer_datetime_format=True for consistent parsing.\n",
      "  return tools.to_datetime(\n",
      "C:\\Users\\Michael\\anaconda3\\lib\\site-packages\\pandas\\io\\parsers\\base_parser.py:1070: UserWarning: Parsing '31/07/2014' in DD/MM/YYYY format. Provide format or specify infer_datetime_format=True for consistent parsing.\n",
      "  return tools.to_datetime(\n",
      "C:\\Users\\Michael\\anaconda3\\lib\\site-packages\\pandas\\io\\parsers\\base_parser.py:1070: UserWarning: Parsing '31/08/2014' in DD/MM/YYYY format. Provide format or specify infer_datetime_format=True for consistent parsing.\n",
      "  return tools.to_datetime(\n",
      "C:\\Users\\Michael\\anaconda3\\lib\\site-packages\\pandas\\io\\parsers\\base_parser.py:1070: UserWarning: Parsing '30/09/2014' in DD/MM/YYYY format. Provide format or specify infer_datetime_format=True for consistent parsing.\n",
      "  return tools.to_datetime(\n",
      "C:\\Users\\Michael\\anaconda3\\lib\\site-packages\\pandas\\io\\parsers\\base_parser.py:1070: UserWarning: Parsing '31/10/2014' in DD/MM/YYYY format. Provide format or specify infer_datetime_format=True for consistent parsing.\n",
      "  return tools.to_datetime(\n",
      "C:\\Users\\Michael\\anaconda3\\lib\\site-packages\\pandas\\io\\parsers\\base_parser.py:1070: UserWarning: Parsing '30/11/2014' in DD/MM/YYYY format. Provide format or specify infer_datetime_format=True for consistent parsing.\n",
      "  return tools.to_datetime(\n",
      "C:\\Users\\Michael\\anaconda3\\lib\\site-packages\\pandas\\io\\parsers\\base_parser.py:1070: UserWarning: Parsing '31/12/2014' in DD/MM/YYYY format. Provide format or specify infer_datetime_format=True for consistent parsing.\n",
      "  return tools.to_datetime(\n",
      "C:\\Users\\Michael\\anaconda3\\lib\\site-packages\\pandas\\io\\parsers\\base_parser.py:1070: UserWarning: Parsing '31/01/2015' in DD/MM/YYYY format. Provide format or specify infer_datetime_format=True for consistent parsing.\n",
      "  return tools.to_datetime(\n",
      "C:\\Users\\Michael\\anaconda3\\lib\\site-packages\\pandas\\io\\parsers\\base_parser.py:1070: UserWarning: Parsing '28/02/2015' in DD/MM/YYYY format. Provide format or specify infer_datetime_format=True for consistent parsing.\n",
      "  return tools.to_datetime(\n",
      "C:\\Users\\Michael\\anaconda3\\lib\\site-packages\\pandas\\io\\parsers\\base_parser.py:1070: UserWarning: Parsing '31/03/2015' in DD/MM/YYYY format. Provide format or specify infer_datetime_format=True for consistent parsing.\n",
      "  return tools.to_datetime(\n",
      "C:\\Users\\Michael\\anaconda3\\lib\\site-packages\\pandas\\io\\parsers\\base_parser.py:1070: UserWarning: Parsing '30/04/2015' in DD/MM/YYYY format. Provide format or specify infer_datetime_format=True for consistent parsing.\n",
      "  return tools.to_datetime(\n",
      "C:\\Users\\Michael\\anaconda3\\lib\\site-packages\\pandas\\io\\parsers\\base_parser.py:1070: UserWarning: Parsing '31/05/2015' in DD/MM/YYYY format. Provide format or specify infer_datetime_format=True for consistent parsing.\n",
      "  return tools.to_datetime(\n",
      "C:\\Users\\Michael\\anaconda3\\lib\\site-packages\\pandas\\io\\parsers\\base_parser.py:1070: UserWarning: Parsing '30/06/2015' in DD/MM/YYYY format. Provide format or specify infer_datetime_format=True for consistent parsing.\n",
      "  return tools.to_datetime(\n",
      "C:\\Users\\Michael\\anaconda3\\lib\\site-packages\\pandas\\io\\parsers\\base_parser.py:1070: UserWarning: Parsing '31/07/2015' in DD/MM/YYYY format. Provide format or specify infer_datetime_format=True for consistent parsing.\n",
      "  return tools.to_datetime(\n",
      "C:\\Users\\Michael\\anaconda3\\lib\\site-packages\\pandas\\io\\parsers\\base_parser.py:1070: UserWarning: Parsing '31/08/2015' in DD/MM/YYYY format. Provide format or specify infer_datetime_format=True for consistent parsing.\n",
      "  return tools.to_datetime(\n",
      "C:\\Users\\Michael\\anaconda3\\lib\\site-packages\\pandas\\io\\parsers\\base_parser.py:1070: UserWarning: Parsing '30/09/2015' in DD/MM/YYYY format. Provide format or specify infer_datetime_format=True for consistent parsing.\n",
      "  return tools.to_datetime(\n",
      "C:\\Users\\Michael\\anaconda3\\lib\\site-packages\\pandas\\io\\parsers\\base_parser.py:1070: UserWarning: Parsing '31/10/2015' in DD/MM/YYYY format. Provide format or specify infer_datetime_format=True for consistent parsing.\n",
      "  return tools.to_datetime(\n",
      "C:\\Users\\Michael\\anaconda3\\lib\\site-packages\\pandas\\io\\parsers\\base_parser.py:1070: UserWarning: Parsing '30/11/2015' in DD/MM/YYYY format. Provide format or specify infer_datetime_format=True for consistent parsing.\n",
      "  return tools.to_datetime(\n",
      "C:\\Users\\Michael\\anaconda3\\lib\\site-packages\\pandas\\io\\parsers\\base_parser.py:1070: UserWarning: Parsing '31/12/2015' in DD/MM/YYYY format. Provide format or specify infer_datetime_format=True for consistent parsing.\n",
      "  return tools.to_datetime(\n",
      "C:\\Users\\Michael\\anaconda3\\lib\\site-packages\\pandas\\io\\parsers\\base_parser.py:1070: UserWarning: Parsing '31/01/2016' in DD/MM/YYYY format. Provide format or specify infer_datetime_format=True for consistent parsing.\n",
      "  return tools.to_datetime(\n",
      "C:\\Users\\Michael\\anaconda3\\lib\\site-packages\\pandas\\io\\parsers\\base_parser.py:1070: UserWarning: Parsing '29/02/2016' in DD/MM/YYYY format. Provide format or specify infer_datetime_format=True for consistent parsing.\n",
      "  return tools.to_datetime(\n",
      "C:\\Users\\Michael\\anaconda3\\lib\\site-packages\\pandas\\io\\parsers\\base_parser.py:1070: UserWarning: Parsing '31/03/2016' in DD/MM/YYYY format. Provide format or specify infer_datetime_format=True for consistent parsing.\n",
      "  return tools.to_datetime(\n",
      "C:\\Users\\Michael\\anaconda3\\lib\\site-packages\\pandas\\io\\parsers\\base_parser.py:1070: UserWarning: Parsing '30/04/2016' in DD/MM/YYYY format. Provide format or specify infer_datetime_format=True for consistent parsing.\n",
      "  return tools.to_datetime(\n",
      "C:\\Users\\Michael\\anaconda3\\lib\\site-packages\\pandas\\io\\parsers\\base_parser.py:1070: UserWarning: Parsing '31/05/2016' in DD/MM/YYYY format. Provide format or specify infer_datetime_format=True for consistent parsing.\n",
      "  return tools.to_datetime(\n",
      "C:\\Users\\Michael\\anaconda3\\lib\\site-packages\\pandas\\io\\parsers\\base_parser.py:1070: UserWarning: Parsing '30/06/2016' in DD/MM/YYYY format. Provide format or specify infer_datetime_format=True for consistent parsing.\n",
      "  return tools.to_datetime(\n",
      "C:\\Users\\Michael\\anaconda3\\lib\\site-packages\\pandas\\io\\parsers\\base_parser.py:1070: UserWarning: Parsing '31/07/2016' in DD/MM/YYYY format. Provide format or specify infer_datetime_format=True for consistent parsing.\n",
      "  return tools.to_datetime(\n",
      "C:\\Users\\Michael\\anaconda3\\lib\\site-packages\\pandas\\io\\parsers\\base_parser.py:1070: UserWarning: Parsing '31/08/2016' in DD/MM/YYYY format. Provide format or specify infer_datetime_format=True for consistent parsing.\n",
      "  return tools.to_datetime(\n",
      "C:\\Users\\Michael\\anaconda3\\lib\\site-packages\\pandas\\io\\parsers\\base_parser.py:1070: UserWarning: Parsing '30/09/2016' in DD/MM/YYYY format. Provide format or specify infer_datetime_format=True for consistent parsing.\n",
      "  return tools.to_datetime(\n",
      "C:\\Users\\Michael\\anaconda3\\lib\\site-packages\\pandas\\io\\parsers\\base_parser.py:1070: UserWarning: Parsing '31/10/2016' in DD/MM/YYYY format. Provide format or specify infer_datetime_format=True for consistent parsing.\n",
      "  return tools.to_datetime(\n",
      "C:\\Users\\Michael\\anaconda3\\lib\\site-packages\\pandas\\io\\parsers\\base_parser.py:1070: UserWarning: Parsing '30/11/2016' in DD/MM/YYYY format. Provide format or specify infer_datetime_format=True for consistent parsing.\n",
      "  return tools.to_datetime(\n",
      "C:\\Users\\Michael\\anaconda3\\lib\\site-packages\\pandas\\io\\parsers\\base_parser.py:1070: UserWarning: Parsing '31/12/2016' in DD/MM/YYYY format. Provide format or specify infer_datetime_format=True for consistent parsing.\n",
      "  return tools.to_datetime(\n",
      "C:\\Users\\Michael\\anaconda3\\lib\\site-packages\\pandas\\io\\parsers\\base_parser.py:1070: UserWarning: Parsing '31/01/2017' in DD/MM/YYYY format. Provide format or specify infer_datetime_format=True for consistent parsing.\n",
      "  return tools.to_datetime(\n",
      "C:\\Users\\Michael\\anaconda3\\lib\\site-packages\\pandas\\io\\parsers\\base_parser.py:1070: UserWarning: Parsing '28/02/2017' in DD/MM/YYYY format. Provide format or specify infer_datetime_format=True for consistent parsing.\n",
      "  return tools.to_datetime(\n",
      "C:\\Users\\Michael\\anaconda3\\lib\\site-packages\\pandas\\io\\parsers\\base_parser.py:1070: UserWarning: Parsing '31/03/2017' in DD/MM/YYYY format. Provide format or specify infer_datetime_format=True for consistent parsing.\n",
      "  return tools.to_datetime(\n",
      "C:\\Users\\Michael\\anaconda3\\lib\\site-packages\\pandas\\io\\parsers\\base_parser.py:1070: UserWarning: Parsing '30/04/2017' in DD/MM/YYYY format. Provide format or specify infer_datetime_format=True for consistent parsing.\n",
      "  return tools.to_datetime(\n",
      "C:\\Users\\Michael\\anaconda3\\lib\\site-packages\\pandas\\io\\parsers\\base_parser.py:1070: UserWarning: Parsing '31/05/2017' in DD/MM/YYYY format. Provide format or specify infer_datetime_format=True for consistent parsing.\n",
      "  return tools.to_datetime(\n",
      "C:\\Users\\Michael\\anaconda3\\lib\\site-packages\\pandas\\io\\parsers\\base_parser.py:1070: UserWarning: Parsing '30/06/2017' in DD/MM/YYYY format. Provide format or specify infer_datetime_format=True for consistent parsing.\n",
      "  return tools.to_datetime(\n",
      "C:\\Users\\Michael\\anaconda3\\lib\\site-packages\\pandas\\io\\parsers\\base_parser.py:1070: UserWarning: Parsing '31/07/2017' in DD/MM/YYYY format. Provide format or specify infer_datetime_format=True for consistent parsing.\n",
      "  return tools.to_datetime(\n",
      "C:\\Users\\Michael\\anaconda3\\lib\\site-packages\\pandas\\io\\parsers\\base_parser.py:1070: UserWarning: Parsing '31/08/2017' in DD/MM/YYYY format. Provide format or specify infer_datetime_format=True for consistent parsing.\n",
      "  return tools.to_datetime(\n",
      "C:\\Users\\Michael\\anaconda3\\lib\\site-packages\\pandas\\io\\parsers\\base_parser.py:1070: UserWarning: Parsing '30/09/2017' in DD/MM/YYYY format. Provide format or specify infer_datetime_format=True for consistent parsing.\n",
      "  return tools.to_datetime(\n",
      "C:\\Users\\Michael\\anaconda3\\lib\\site-packages\\pandas\\io\\parsers\\base_parser.py:1070: UserWarning: Parsing '31/10/2017' in DD/MM/YYYY format. Provide format or specify infer_datetime_format=True for consistent parsing.\n",
      "  return tools.to_datetime(\n",
      "C:\\Users\\Michael\\anaconda3\\lib\\site-packages\\pandas\\io\\parsers\\base_parser.py:1070: UserWarning: Parsing '30/11/2017' in DD/MM/YYYY format. Provide format or specify infer_datetime_format=True for consistent parsing.\n",
      "  return tools.to_datetime(\n",
      "C:\\Users\\Michael\\anaconda3\\lib\\site-packages\\pandas\\io\\parsers\\base_parser.py:1070: UserWarning: Parsing '31/12/2017' in DD/MM/YYYY format. Provide format or specify infer_datetime_format=True for consistent parsing.\n",
      "  return tools.to_datetime(\n",
      "C:\\Users\\Michael\\anaconda3\\lib\\site-packages\\pandas\\io\\parsers\\base_parser.py:1070: UserWarning: Parsing '31/01/2018' in DD/MM/YYYY format. Provide format or specify infer_datetime_format=True for consistent parsing.\n",
      "  return tools.to_datetime(\n",
      "C:\\Users\\Michael\\anaconda3\\lib\\site-packages\\pandas\\io\\parsers\\base_parser.py:1070: UserWarning: Parsing '28/02/2018' in DD/MM/YYYY format. Provide format or specify infer_datetime_format=True for consistent parsing.\n",
      "  return tools.to_datetime(\n",
      "C:\\Users\\Michael\\anaconda3\\lib\\site-packages\\pandas\\io\\parsers\\base_parser.py:1070: UserWarning: Parsing '31/03/2018' in DD/MM/YYYY format. Provide format or specify infer_datetime_format=True for consistent parsing.\n",
      "  return tools.to_datetime(\n",
      "C:\\Users\\Michael\\anaconda3\\lib\\site-packages\\pandas\\io\\parsers\\base_parser.py:1070: UserWarning: Parsing '30/04/2018' in DD/MM/YYYY format. Provide format or specify infer_datetime_format=True for consistent parsing.\n",
      "  return tools.to_datetime(\n",
      "C:\\Users\\Michael\\anaconda3\\lib\\site-packages\\pandas\\io\\parsers\\base_parser.py:1070: UserWarning: Parsing '31/05/2018' in DD/MM/YYYY format. Provide format or specify infer_datetime_format=True for consistent parsing.\n",
      "  return tools.to_datetime(\n",
      "C:\\Users\\Michael\\anaconda3\\lib\\site-packages\\pandas\\io\\parsers\\base_parser.py:1070: UserWarning: Parsing '30/06/2018' in DD/MM/YYYY format. Provide format or specify infer_datetime_format=True for consistent parsing.\n",
      "  return tools.to_datetime(\n",
      "C:\\Users\\Michael\\anaconda3\\lib\\site-packages\\pandas\\io\\parsers\\base_parser.py:1070: UserWarning: Parsing '31/07/2018' in DD/MM/YYYY format. Provide format or specify infer_datetime_format=True for consistent parsing.\n",
      "  return tools.to_datetime(\n",
      "C:\\Users\\Michael\\anaconda3\\lib\\site-packages\\pandas\\io\\parsers\\base_parser.py:1070: UserWarning: Parsing '31/08/2018' in DD/MM/YYYY format. Provide format or specify infer_datetime_format=True for consistent parsing.\n",
      "  return tools.to_datetime(\n",
      "C:\\Users\\Michael\\anaconda3\\lib\\site-packages\\pandas\\io\\parsers\\base_parser.py:1070: UserWarning: Parsing '30/09/2018' in DD/MM/YYYY format. Provide format or specify infer_datetime_format=True for consistent parsing.\n",
      "  return tools.to_datetime(\n",
      "C:\\Users\\Michael\\anaconda3\\lib\\site-packages\\pandas\\io\\parsers\\base_parser.py:1070: UserWarning: Parsing '31/10/2018' in DD/MM/YYYY format. Provide format or specify infer_datetime_format=True for consistent parsing.\n",
      "  return tools.to_datetime(\n",
      "C:\\Users\\Michael\\anaconda3\\lib\\site-packages\\pandas\\io\\parsers\\base_parser.py:1070: UserWarning: Parsing '30/11/2018' in DD/MM/YYYY format. Provide format or specify infer_datetime_format=True for consistent parsing.\n",
      "  return tools.to_datetime(\n"
     ]
    }
   ],
   "source": [
    "hfi = erk.get_hfi_returns()"
   ]
  },
  {
   "cell_type": "markdown",
   "id": "62771c6c-35f0-483f-a90e-dd518977381c",
   "metadata": {},
   "source": [
    "## SemiDeviation"
   ]
  },
  {
   "cell_type": "code",
   "execution_count": 3,
   "id": "7ac27490-2244-47d8-9790-3a955eaab493",
   "metadata": {},
   "outputs": [
    {
     "data": {
      "text/plain": [
       "Convertible Arbitrage     0.016536\n",
       "CTA Global                0.023290\n",
       "Distressed Securities     0.017009\n",
       "Emerging Markets          0.032476\n",
       "Equity Market Neutral     0.008115\n",
       "Event Driven              0.016712\n",
       "Fixed Income Arbitrage    0.011517\n",
       "Global Macro              0.014694\n",
       "Long/Short Equity         0.019897\n",
       "Merger Arbitrage          0.009600\n",
       "Relative Value            0.011462\n",
       "Short Selling             0.047655\n",
       "Funds Of Funds            0.015536\n",
       "dtype: float64"
      ]
     },
     "execution_count": 3,
     "metadata": {},
     "output_type": "execute_result"
    }
   ],
   "source": [
    "hfi.std(ddof = 0)"
   ]
  },
  {
   "cell_type": "code",
   "execution_count": 4,
   "id": "f329557b-7108-43b2-8d29-392a07e0407e",
   "metadata": {},
   "outputs": [
    {
     "data": {
      "text/plain": [
       "Convertible Arbitrage     0.019540\n",
       "CTA Global                0.012443\n",
       "Distressed Securities     0.015185\n",
       "Emerging Markets          0.028039\n",
       "Equity Market Neutral     0.009566\n",
       "Event Driven              0.015429\n",
       "Fixed Income Arbitrage    0.017763\n",
       "Global Macro              0.006579\n",
       "Long/Short Equity         0.014051\n",
       "Merger Arbitrage          0.008875\n",
       "Relative Value            0.012244\n",
       "Short Selling             0.027283\n",
       "Funds Of Funds            0.012122\n",
       "dtype: float64"
      ]
     },
     "execution_count": 4,
     "metadata": {},
     "output_type": "execute_result"
    }
   ],
   "source": [
    "# applying a boolean mask to filter returns that are less than zero, and then take std of those\n",
    "\n",
    "hfi[hfi<0].std(ddof = 0)"
   ]
  },
  {
   "cell_type": "code",
   "execution_count": 5,
   "id": "2afb5b40-93e8-4fc8-90ab-3620ec4cec63",
   "metadata": {},
   "outputs": [
    {
     "data": {
      "text/plain": [
       "Convertible Arbitrage     0.019540\n",
       "CTA Global                0.012443\n",
       "Distressed Securities     0.015185\n",
       "Emerging Markets          0.028039\n",
       "Equity Market Neutral     0.009566\n",
       "Event Driven              0.015429\n",
       "Fixed Income Arbitrage    0.017763\n",
       "Global Macro              0.006579\n",
       "Long/Short Equity         0.014051\n",
       "Merger Arbitrage          0.008875\n",
       "Relative Value            0.012244\n",
       "Short Selling             0.027283\n",
       "Funds Of Funds            0.012122\n",
       "dtype: float64"
      ]
     },
     "execution_count": 5,
     "metadata": {},
     "output_type": "execute_result"
    }
   ],
   "source": [
    "erk.semideviation(hfi)"
   ]
  },
  {
   "cell_type": "markdown",
   "id": "65ceec00-9d3a-492f-90c5-ae1cbe26efd7",
   "metadata": {},
   "source": [
    "### VaR and CVaR\n",
    "Value at Risk\n",
    "\n",
    "- Historic VaR\n",
    "- Parametric VaR - Gaussian \n",
    "- Modified Cornish-Fisher VaR\n"
   ]
  },
  {
   "cell_type": "code",
   "execution_count": 6,
   "id": "336d2ccf-566c-4ac2-b75d-3f9ac22e5b5f",
   "metadata": {},
   "outputs": [],
   "source": [
    "# Historic VaR\n"
   ]
  },
  {
   "cell_type": "code",
   "execution_count": 7,
   "id": "e087dab2-6f03-49c8-aea2-0acb703865ac",
   "metadata": {},
   "outputs": [],
   "source": [
    "import numpy as np"
   ]
  },
  {
   "cell_type": "code",
   "execution_count": 9,
   "id": "6203fd42-b55a-478b-bc68-a06222bc2c82",
   "metadata": {},
   "outputs": [
    {
     "data": {
      "text/plain": [
       "array([-0.01576, -0.03169, -0.01966, -0.04247, -0.00814, -0.02535,\n",
       "       -0.00787, -0.01499, -0.02598, -0.01047, -0.01174, -0.06783,\n",
       "       -0.02047])"
      ]
     },
     "execution_count": 9,
     "metadata": {},
     "output_type": "execute_result"
    }
   ],
   "source": [
    "np.percentile(hfi, 5, axis = 0)"
   ]
  },
  {
   "cell_type": "code",
   "execution_count": 10,
   "id": "f2286b4e-c9fb-4738-aeae-b43586ca5d4e",
   "metadata": {},
   "outputs": [],
   "source": [
    "# ^For Interpretation^\n",
    "\n",
    "# Value 1 : -0.01576\n",
    "# Convertible Arbitrage--> on any given month, there is a 5% chance you will lose 1.576% or worse"
   ]
  },
  {
   "cell_type": "code",
   "execution_count": 13,
   "id": "3c4a29bd-579e-4c89-a9da-56c48da336d7",
   "metadata": {},
   "outputs": [],
   "source": [
    "# To facilitate the prior output into something easier to read/interpret\n",
    "\n",
    "def var_historic(r, level=5):\n",
    "    \"\"\"\n",
    "    VaR Historic\n",
    "    \"\"\"\n",
    "    if isinstance(r, pd.DataFrame):\n",
    "        return r.aggregate(var_historic, level = level)\n",
    "    elif isinstance(r, pd.Series):\n",
    "        return -np.percentile(r, level) # -np.percentile.. because VaR is generally reported as a positive value..5% chance of losing 1.5%..\n",
    "    else: \n",
    "        raise TypeError(\"Expected r to be Series or DataFrame\")\n",
    "        "
   ]
  },
  {
   "cell_type": "code",
   "execution_count": 14,
   "id": "ffe4c5f6-f7b6-40f2-ba4c-cabfd5f4ea4a",
   "metadata": {},
   "outputs": [
    {
     "data": {
      "text/plain": [
       "Convertible Arbitrage     0.01576\n",
       "CTA Global                0.03169\n",
       "Distressed Securities     0.01966\n",
       "Emerging Markets          0.04247\n",
       "Equity Market Neutral     0.00814\n",
       "Event Driven              0.02535\n",
       "Fixed Income Arbitrage    0.00787\n",
       "Global Macro              0.01499\n",
       "Long/Short Equity         0.02598\n",
       "Merger Arbitrage          0.01047\n",
       "Relative Value            0.01174\n",
       "Short Selling             0.06783\n",
       "Funds Of Funds            0.02047\n",
       "dtype: float64"
      ]
     },
     "execution_count": 14,
     "metadata": {},
     "output_type": "execute_result"
    }
   ],
   "source": [
    "var_historic(hfi)"
   ]
  },
  {
   "cell_type": "code",
   "execution_count": 18,
   "id": "072fed83-e808-443a-831e-10942e282259",
   "metadata": {},
   "outputs": [
    {
     "data": {
      "text/plain": [
       "Convertible Arbitrage     0.01576\n",
       "CTA Global                0.03169\n",
       "Distressed Securities     0.01966\n",
       "Emerging Markets          0.04247\n",
       "Equity Market Neutral     0.00814\n",
       "Event Driven              0.02535\n",
       "Fixed Income Arbitrage    0.00787\n",
       "Global Macro              0.01499\n",
       "Long/Short Equity         0.02598\n",
       "Merger Arbitrage          0.01047\n",
       "Relative Value            0.01174\n",
       "Short Selling             0.06783\n",
       "Funds Of Funds            0.02047\n",
       "dtype: float64"
      ]
     },
     "execution_count": 18,
     "metadata": {},
     "output_type": "execute_result"
    }
   ],
   "source": [
    "erk.var_historic(hfi)"
   ]
  },
  {
   "cell_type": "code",
   "execution_count": null,
   "id": "25495676-9fab-4dd7-873b-5f32a3202a92",
   "metadata": {},
   "outputs": [],
   "source": [
    "# To"
   ]
  },
  {
   "cell_type": "code",
   "execution_count": 19,
   "id": "04ea58b3-b6f6-4567-a813-93983524fe2b",
   "metadata": {},
   "outputs": [],
   "source": [
    "from scipy.stats import norm"
   ]
  },
  {
   "cell_type": "code",
   "execution_count": 24,
   "id": "a2487e79-5f5c-434c-b968-749f80857513",
   "metadata": {},
   "outputs": [],
   "source": [
    "z = norm.ppf(.05)"
   ]
  },
  {
   "cell_type": "code",
   "execution_count": 25,
   "id": "ca713cbf-6f85-48e7-a12c-2867adff1cfa",
   "metadata": {},
   "outputs": [
    {
     "data": {
      "text/plain": [
       "-1.6448536269514729"
      ]
     },
     "execution_count": 25,
     "metadata": {},
     "output_type": "execute_result"
    }
   ],
   "source": [
    "z"
   ]
  },
  {
   "cell_type": "code",
   "execution_count": 26,
   "id": "bb25a2af-ff7f-4804-91ee-e7c82a74183e",
   "metadata": {},
   "outputs": [
    {
     "data": {
      "text/plain": [
       "Convertible Arbitrage    -0.021691\n",
       "CTA Global               -0.034235\n",
       "Distressed Securities    -0.021032\n",
       "Emerging Markets         -0.047164\n",
       "Equity Market Neutral    -0.008850\n",
       "Event Driven             -0.021144\n",
       "Fixed Income Arbitrage   -0.014579\n",
       "Global Macro             -0.018766\n",
       "Long/Short Equity        -0.026397\n",
       "Merger Arbitrage         -0.010435\n",
       "Relative Value           -0.013061\n",
       "Short Selling            -0.080086\n",
       "Funds Of Funds           -0.021292\n",
       "dtype: float64"
      ]
     },
     "execution_count": 26,
     "metadata": {},
     "output_type": "execute_result"
    }
   ],
   "source": [
    "# VaR at 5% level\n",
    "\n",
    "-(hfi.mean() + z*hfi.std(ddof=0))"
   ]
  },
  {
   "cell_type": "code",
   "execution_count": 29,
   "id": "239c574c-7737-462f-af48-f306612aba7d",
   "metadata": {},
   "outputs": [
    {
     "data": {
      "text/plain": [
       "Convertible Arbitrage     0.021691\n",
       "CTA Global                0.034235\n",
       "Distressed Securities     0.021032\n",
       "Emerging Markets          0.047164\n",
       "Equity Market Neutral     0.008850\n",
       "Event Driven              0.021144\n",
       "Fixed Income Arbitrage    0.014579\n",
       "Global Macro              0.018766\n",
       "Long/Short Equity         0.026397\n",
       "Merger Arbitrage          0.010435\n",
       "Relative Value            0.013061\n",
       "Short Selling             0.080086\n",
       "Funds Of Funds            0.021292\n",
       "dtype: float64"
      ]
     },
     "execution_count": 29,
     "metadata": {},
     "output_type": "execute_result"
    }
   ],
   "source": [
    "erk.var_gaussian(hfi)"
   ]
  },
  {
   "cell_type": "code",
   "execution_count": 30,
   "id": "d9e751c5-7d59-4378-b767-8332f8d04b5b",
   "metadata": {},
   "outputs": [
    {
     "data": {
      "text/plain": [
       "<AxesSubplot:title={'center':'EDHEC Hedge Fund Indices: VaR'}>"
      ]
     },
     "execution_count": 30,
     "metadata": {},
     "output_type": "execute_result"
    },
    {
     "data": {
      "image/png": "[encoded data removed]",
      "text/plain": [
       "<Figure size 640x480 with 1 Axes>"
      ]
     },
     "metadata": {},
     "output_type": "display_data"
    }
   ],
   "source": [
    "var_list = [erk.var_gaussian(hfi), erk.var_gaussian(hfi, modified=True), erk.var_historic(hfi)]\n",
    "comparison = pd.concat(var_list, axis=1)\n",
    "comparison.columns = [\"Gaussian\", \"Cornish-Fisher\", \"Historic\"]\n",
    "comparison.plot.bar(title=\"EDHEC Hedge Fund Indices: VaR\")"
   ]
  },
  {
   "cell_type": "markdown",
   "id": "c05a5d68-a5c5-4579-b9cd-d335f960b738",
   "metadata": {},
   "source": [
    "### Beyond VaR : CVaR"
   ]
  },
  {
   "cell_type": "code",
   "execution_count": 31,
   "id": "e56c2ae0-453b-4157-8dc2-95ba43f629e5",
   "metadata": {},
   "outputs": [
    {
     "data": {
      "text/plain": [
       "Convertible Arbitrage     0.036550\n",
       "CTA Global                0.041264\n",
       "Distressed Securities     0.036429\n",
       "Emerging Markets          0.072364\n",
       "Equity Market Neutral     0.016879\n",
       "Event Driven              0.038336\n",
       "Fixed Income Arbitrage    0.028257\n",
       "Global Macro              0.020629\n",
       "Long/Short Equity         0.041943\n",
       "Merger Arbitrage          0.019143\n",
       "Relative Value            0.024650\n",
       "Short Selling             0.096821\n",
       "Funds Of Funds            0.033207\n",
       "dtype: float64"
      ]
     },
     "execution_count": 31,
     "metadata": {},
     "output_type": "execute_result"
    }
   ],
   "source": [
    "erk.cvar_historic(hfi)"
   ]
  },
  {
   "cell_type": "code",
   "execution_count": null,
   "id": "0742ecd3-1fb1-49a2-a5cc-ff9eb55fadd1",
   "metadata": {},
   "outputs": [],
   "source": [
    "# TO interpret: if the 5% worst case scenario happens, the average of the worst 5% of scenarios for\n",
    "# Convertible Arbitrage is a 3.655% loss in a month"
   ]
  }
 ],
 "metadata": {
  "kernelspec": {
   "display_name": "Python 3 (ipykernel)",
   "language": "python",
   "name": "python3"
  },
  "language_info": {
   "codemirror_mode": {
    "name": "ipython",
    "version": 3
   },
   "file_extension": ".py",
   "mimetype": "text/x-python",
   "name": "python",
   "nbconvert_exporter": "python",
   "pygments_lexer": "ipython3",
   "version": "3.9.13"
  }
 },
 "nbformat": 4,
 "nbformat_minor": 5
}
