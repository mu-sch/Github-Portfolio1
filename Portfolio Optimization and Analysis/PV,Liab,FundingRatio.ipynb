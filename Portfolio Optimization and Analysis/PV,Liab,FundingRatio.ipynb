{
 "cells": [
  {
   "cell_type": "markdown",
   "id": "49753c13-b365-405b-a31d-7be8d023f2d8",
   "metadata": {},
   "source": [
    "## Present Value of Liabilities and Funding Ratio\n",
    "\n",
    "The present value of a set of liabilities $L$ where each liability $L_i$ is due at time $t_i$ is given by:\n",
    "\n",
    "$$ PV(L) = \\sum_{i=1}^{k} B(t_i) L_i$$\n",
    "\n",
    "where $B(t_i)$ is the price of a pure discount bond that pays 1 dollar at time $t_i$\n",
    "\n",
    "If we assume the yield curve is flat and the annual rate of interest is $r$ then $B(t)$ is given by \n",
    "\n",
    "$$B(t) = \\frac{1}{(1+r)^t}$$"
   ]
  },
  {
   "cell_type": "code",
   "execution_count": 2,
   "id": "67a8d2f2-b43b-4363-ab70-e10733e47eae",
   "metadata": {},
   "outputs": [],
   "source": [
    "import numpy as np \n",
    "import pandas as pd\n",
    "import edhec_risk_kit as erk \n",
    "%load_ext autoreload\n",
    "%autoreload 2"
   ]
  },
  {
   "cell_type": "code",
   "execution_count": 4,
   "id": "1e77fbc2-f002-4343-8235-9389e34d8085",
   "metadata": {},
   "outputs": [],
   "source": [
    "def discount(t, r):\n",
    "    \"\"\"\n",
    "    Compute the price of a pure discount bond that pays a dollar at time t, given interest rate(r)\n",
    "    \"\"\"\n",
    "    return 1/(1+r)**t # Could also simplify it further by saying return (1+r)**(-t) to avoid dividing"
   ]
  },
  {
   "cell_type": "code",
   "execution_count": 5,
   "id": "c1f5a6b3-c507-43fe-84d1-ea5aa926b504",
   "metadata": {},
   "outputs": [
    {
     "data": {
      "text/plain": [
       "0.7440939148967249"
      ]
     },
     "execution_count": 5,
     "metadata": {},
     "output_type": "execute_result"
    }
   ],
   "source": [
    "discount(10, 0.03)"
   ]
  },
  {
   "cell_type": "code",
   "execution_count": 6,
   "id": "50cdf540-7c72-4962-ae3c-4d4746921424",
   "metadata": {},
   "outputs": [
    {
     "data": {
      "text/plain": [
       "1.0"
      ]
     },
     "execution_count": 6,
     "metadata": {},
     "output_type": "execute_result"
    }
   ],
   "source": [
    "0.7440939148967249*(1.03**10)"
   ]
  },
  {
   "cell_type": "code",
   "execution_count": 11,
   "id": "f505c388-de07-4a79-b2c9-06851a97187a",
   "metadata": {},
   "outputs": [],
   "source": [
    "def pv(l, r):\n",
    "    \"\"\"\n",
    "    Compute the Present Value of a sequence of liabilities\n",
    "    l is indexed by the time and the values are the amounts of each liability\n",
    "    returns the present value of the sequence\n",
    "    \"\"\"\n",
    "    dates = l.index\n",
    "    discounts = discount(dates, r)\n",
    "    return (discounts*l).sum()"
   ]
  },
  {
   "cell_type": "code",
   "execution_count": 12,
   "id": "b29413b2-6451-40bb-81f5-6b6953b68373",
   "metadata": {},
   "outputs": [
    {
     "data": {
      "text/plain": [
       "3.0    1.0\n",
       "3.5    1.5\n",
       "4.0    2.0\n",
       "4.5    2.5\n",
       "dtype: float64"
      ]
     },
     "execution_count": 12,
     "metadata": {},
     "output_type": "execute_result"
    }
   ],
   "source": [
    "# Have to create liabilities\n",
    "\n",
    "liabilities = pd.Series(data=[1, 1.5, 2, 2.5], index=[3, 3.5, 4, 4.5])\n",
    "liabilities # to show the payment schedule"
   ]
  },
  {
   "cell_type": "code",
   "execution_count": 13,
   "id": "3b7a5a48-7fa2-464e-8d87-8448e255b60e",
   "metadata": {},
   "outputs": [
    {
     "data": {
      "text/plain": [
       "6.233320315080044"
      ]
     },
     "execution_count": 13,
     "metadata": {},
     "output_type": "execute_result"
    }
   ],
   "source": [
    "pv(liabilities, 0.03)"
   ]
  },
  {
   "cell_type": "code",
   "execution_count": 14,
   "id": "794c4679-73b2-4df2-bb1d-96e2a61073f3",
   "metadata": {},
   "outputs": [
    {
     "data": {
      "text/plain": [
       "7.0"
      ]
     },
     "execution_count": 14,
     "metadata": {},
     "output_type": "execute_result"
    }
   ],
   "source": [
    "liabilities.sum()"
   ]
  },
  {
   "cell_type": "markdown",
   "id": "a147302c-fbfb-4a75-9ce4-53fd8a7a6066",
   "metadata": {},
   "source": [
    "## Computing the funding ratio"
   ]
  },
  {
   "cell_type": "code",
   "execution_count": 15,
   "id": "e3516cb1-1b06-4d1d-b681-09faec257378",
   "metadata": {},
   "outputs": [],
   "source": [
    "def funding_ratio(assets, liabilities, r):\n",
    "    \"\"\"\n",
    "    Computes the funding ratio of some assets given liabilities and interest rate\n",
    "    \"\"\"\n",
    "    return assets/pv(liabilities, r)"
   ]
  },
  {
   "cell_type": "code",
   "execution_count": 16,
   "id": "fa44f14a-2ab1-47f9-ab75-8b22b50e7360",
   "metadata": {},
   "outputs": [
    {
     "data": {
      "text/plain": [
       "0.8021407126958778"
      ]
     },
     "execution_count": 16,
     "metadata": {},
     "output_type": "execute_result"
    }
   ],
   "source": [
    "funding_ratio(5, liabilities, 0.03)"
   ]
  },
  {
   "cell_type": "code",
   "execution_count": null,
   "id": "f6551763-035a-406b-93bc-21cc4573fbc9",
   "metadata": {},
   "outputs": [],
   "source": [
    "# This means you are underfunded. You are only 80.21% funded to cover all liabilities"
   ]
  },
  {
   "cell_type": "code",
   "execution_count": 20,
   "id": "d780062d-da01-4712-a6d0-114f0fb34d12",
   "metadata": {},
   "outputs": [
    {
     "data": {
      "text/plain": [
       "0.7720304366941647"
      ]
     },
     "execution_count": 20,
     "metadata": {},
     "output_type": "execute_result"
    }
   ],
   "source": [
    "funding_ratio(5, liabilities, 0.02) # Lower interest rate will decrease the funding rate, ceteris paribus"
   ]
  },
  {
   "cell_type": "code",
   "execution_count": 21,
   "id": "6b6a5c14-d006-4a06-9d1c-7c259463b786",
   "metadata": {},
   "outputs": [
    {
     "data": {
      "text/plain": [
       "1.112856954780567"
      ]
     },
     "execution_count": 21,
     "metadata": {},
     "output_type": "execute_result"
    }
   ],
   "source": [
    "funding_ratio(5, liabilities, 0.12) # higher interest rate will increase the funding rate, ceteris paribus"
   ]
  },
  {
   "cell_type": "code",
   "execution_count": 23,
   "id": "e95ac4b0-5013-4f8b-b6a5-5d6c7c95d064",
   "metadata": {},
   "outputs": [
    {
     "data": {
      "application/vnd.jupyter.widget-view+json": {
       "model_id": "3519729a6abf48a18406338b98be9de4",
       "version_major": 2,
       "version_minor": 0
      },
      "text/plain": [
       "interactive(children=(IntSlider(value=5, description='assets', max=10, min=1), FloatSlider(value=0.1, descript…"
      ]
     },
     "metadata": {},
     "output_type": "display_data"
    }
   ],
   "source": [
    "import ipywidgets as widgets\n",
    "from IPython.display import display\n",
    "%matplotlib inline\n",
    "\n",
    "def show_funding_ratio(assets, r):\n",
    "    \"\"\"\n",
    "    \n",
    "    \"\"\"\n",
    "    fr = funding_ratio(assets, liabilities, r)\n",
    "    print(f'{fr*100:.2f}') # String Formatting, fundingratio*100, up to 2 decimal places\n",
    "    \n",
    "controls = widgets.interactive(show_funding_ratio,\n",
    "                              assets=widgets.IntSlider(min=1, max=10, step=1, value=5),\n",
    "                              r=(0, .20, .01)\n",
    "                              )\n",
    "display(controls)"
   ]
  },
  {
   "cell_type": "code",
   "execution_count": null,
   "id": "fa2f5d20-0856-4655-bde3-eb3b6fd9176f",
   "metadata": {},
   "outputs": [],
   "source": []
  }
 ],
 "metadata": {
  "kernelspec": {
   "display_name": "Python 3 (ipykernel)",
   "language": "python",
   "name": "python3"
  },
  "language_info": {
   "codemirror_mode": {
    "name": "ipython",
    "version": 3
   },
   "file_extension": ".py",
   "mimetype": "text/x-python",
   "name": "python",
   "nbconvert_exporter": "python",
   "pygments_lexer": "ipython3",
   "version": "3.9.13"
  }
 },
 "nbformat": 4,
 "nbformat_minor": 5
}
