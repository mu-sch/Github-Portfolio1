{
 "cells": [
  {
   "cell_type": "code",
   "execution_count": 1,
   "id": "dbf87e5a-b250-443a-9828-a8899f9a33cc",
   "metadata": {},
   "outputs": [],
   "source": [
    "%load_ext autoreload\n",
    "%autoreload 2\n",
    "%matplotlib inline\n",
    "import pandas as pd\n",
    "import numpy as np\n",
    "from scipy.optimize import minimize \n",
    "import edhec_risk_kit as erk \n"
   ]
  },
  {
   "cell_type": "code",
   "execution_count": 4,
   "id": "3b993009-aa3a-455f-8f95-7fe0b0708393",
   "metadata": {},
   "outputs": [],
   "source": [
    "ind_return = erk.get_ind_returns()\n",
    "ind_nfirm = erk.get_ind_nfirms()\n",
    "ind_size = erk.get_ind_size()"
   ]
  },
  {
   "cell_type": "code",
   "execution_count": 6,
   "id": "aa11ed6c-6267-47b9-ac61-e48da4917235",
   "metadata": {},
   "outputs": [
    {
     "data": {
      "text/plain": [
       "(1110, 30)"
      ]
     },
     "execution_count": 6,
     "metadata": {},
     "output_type": "execute_result"
    }
   ],
   "source": [
    "ind_return.shape"
   ]
  },
  {
   "cell_type": "code",
   "execution_count": 7,
   "id": "f2b95fbd-5bb8-4cc1-a05f-83352f01d5e0",
   "metadata": {},
   "outputs": [
    {
     "data": {
      "text/plain": [
       "(1110, 30)"
      ]
     },
     "execution_count": 7,
     "metadata": {},
     "output_type": "execute_result"
    }
   ],
   "source": [
    "ind_nfirm.shape"
   ]
  },
  {
   "cell_type": "code",
   "execution_count": 8,
   "id": "dd1566ce-047e-4eac-8b2a-10b263506dc6",
   "metadata": {},
   "outputs": [
    {
     "data": {
      "text/plain": [
       "(1110, 30)"
      ]
     },
     "execution_count": 8,
     "metadata": {},
     "output_type": "execute_result"
    }
   ],
   "source": [
    "ind_size.shape"
   ]
  },
  {
   "cell_type": "code",
   "execution_count": null,
   "id": "55c7c0c4-4bc3-4d9f-bee3-eedcbb8b4749",
   "metadata": {},
   "outputs": [],
   "source": []
  }
 ],
 "metadata": {
  "kernelspec": {
   "display_name": "Python 3 (ipykernel)",
   "language": "python",
   "name": "python3"
  },
  "language_info": {
   "codemirror_mode": {
    "name": "ipython",
    "version": 3
   },
   "file_extension": ".py",
   "mimetype": "text/x-python",
   "name": "python",
   "nbconvert_exporter": "python",
   "pygments_lexer": "ipython3",
   "version": "3.9.13"
  }
 },
 "nbformat": 4,
 "nbformat_minor": 5
}
