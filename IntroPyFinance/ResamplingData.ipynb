{
 "cells": [
  {
   "cell_type": "markdown",
   "id": "aa90cc12-50d3-48d5-8905-7e25e51a0434",
   "metadata": {},
   "source": [
    " # Resampling Data\n",
    "## Resampling means taking our data from one granularity to a different granularity\n",
    "## Such as changing daily to weekly/monthly/annual granularity"
   ]
  },
  {
   "cell_type": "code",
   "execution_count": 2,
   "id": "316d78fb-f628-45ee-98d0-93303c5689fe",
   "metadata": {},
   "outputs": [
    {
     "name": "stdout",
     "output_type": "stream",
     "text": [
      "[*********************100%***********************]  2 of 2 completed\n"
     ]
    },
    {
     "data": {
      "text/html": [
       "<div>\n",
       "<style scoped>\n",
       "    .dataframe tbody tr th:only-of-type {\n",
       "        vertical-align: middle;\n",
       "    }\n",
       "\n",
       "    .dataframe tbody tr th {\n",
       "        vertical-align: top;\n",
       "    }\n",
       "\n",
       "    .dataframe thead th {\n",
       "        text-align: right;\n",
       "    }\n",
       "</style>\n",
       "<table border=\"1\" class=\"dataframe\">\n",
       "  <thead>\n",
       "    <tr style=\"text-align: right;\">\n",
       "      <th></th>\n",
       "      <th>Adj Close</th>\n",
       "      <th>Close</th>\n",
       "      <th>High</th>\n",
       "      <th>Low</th>\n",
       "      <th>Open</th>\n",
       "      <th>Volume</th>\n",
       "    </tr>\n",
       "    <tr>\n",
       "      <th>Date</th>\n",
       "      <th></th>\n",
       "      <th></th>\n",
       "      <th></th>\n",
       "      <th></th>\n",
       "      <th></th>\n",
       "      <th></th>\n",
       "    </tr>\n",
       "  </thead>\n",
       "  <tbody>\n",
       "    <tr>\n",
       "      <th>2010-01-04</th>\n",
       "      <td>6.505279</td>\n",
       "      <td>7.643214</td>\n",
       "      <td>7.660714</td>\n",
       "      <td>7.585000</td>\n",
       "      <td>7.622500</td>\n",
       "      <td>493729600</td>\n",
       "    </tr>\n",
       "    <tr>\n",
       "      <th>2010-01-05</th>\n",
       "      <td>6.516528</td>\n",
       "      <td>7.656429</td>\n",
       "      <td>7.699643</td>\n",
       "      <td>7.616071</td>\n",
       "      <td>7.664286</td>\n",
       "      <td>601904800</td>\n",
       "    </tr>\n",
       "    <tr>\n",
       "      <th>2010-01-06</th>\n",
       "      <td>6.412873</td>\n",
       "      <td>7.534643</td>\n",
       "      <td>7.686786</td>\n",
       "      <td>7.526786</td>\n",
       "      <td>7.656429</td>\n",
       "      <td>552160000</td>\n",
       "    </tr>\n",
       "    <tr>\n",
       "      <th>2010-01-07</th>\n",
       "      <td>6.401019</td>\n",
       "      <td>7.520714</td>\n",
       "      <td>7.571429</td>\n",
       "      <td>7.466071</td>\n",
       "      <td>7.562500</td>\n",
       "      <td>477131200</td>\n",
       "    </tr>\n",
       "    <tr>\n",
       "      <th>2010-01-08</th>\n",
       "      <td>6.443574</td>\n",
       "      <td>7.570714</td>\n",
       "      <td>7.571429</td>\n",
       "      <td>7.466429</td>\n",
       "      <td>7.510714</td>\n",
       "      <td>447610800</td>\n",
       "    </tr>\n",
       "    <tr>\n",
       "      <th>...</th>\n",
       "      <td>...</td>\n",
       "      <td>...</td>\n",
       "      <td>...</td>\n",
       "      <td>...</td>\n",
       "      <td>...</td>\n",
       "      <td>...</td>\n",
       "    </tr>\n",
       "    <tr>\n",
       "      <th>2019-12-23</th>\n",
       "      <td>69.451065</td>\n",
       "      <td>71.000000</td>\n",
       "      <td>71.062500</td>\n",
       "      <td>70.092499</td>\n",
       "      <td>70.132500</td>\n",
       "      <td>98572000</td>\n",
       "    </tr>\n",
       "    <tr>\n",
       "      <th>2019-12-24</th>\n",
       "      <td>69.517090</td>\n",
       "      <td>71.067497</td>\n",
       "      <td>71.222504</td>\n",
       "      <td>70.730003</td>\n",
       "      <td>71.172501</td>\n",
       "      <td>48478800</td>\n",
       "    </tr>\n",
       "    <tr>\n",
       "      <th>2019-12-26</th>\n",
       "      <td>70.896324</td>\n",
       "      <td>72.477501</td>\n",
       "      <td>72.495003</td>\n",
       "      <td>71.175003</td>\n",
       "      <td>71.205002</td>\n",
       "      <td>93121200</td>\n",
       "    </tr>\n",
       "    <tr>\n",
       "      <th>2019-12-27</th>\n",
       "      <td>70.869431</td>\n",
       "      <td>72.449997</td>\n",
       "      <td>73.492500</td>\n",
       "      <td>72.029999</td>\n",
       "      <td>72.779999</td>\n",
       "      <td>146266000</td>\n",
       "    </tr>\n",
       "    <tr>\n",
       "      <th>2019-12-30</th>\n",
       "      <td>71.290054</td>\n",
       "      <td>72.879997</td>\n",
       "      <td>73.172501</td>\n",
       "      <td>71.305000</td>\n",
       "      <td>72.364998</td>\n",
       "      <td>144114400</td>\n",
       "    </tr>\n",
       "  </tbody>\n",
       "</table>\n",
       "<p>2515 rows × 6 columns</p>\n",
       "</div>"
      ],
      "text/plain": [
       "            Adj Close      Close       High        Low       Open     Volume\n",
       "Date                                                                        \n",
       "2010-01-04   6.505279   7.643214   7.660714   7.585000   7.622500  493729600\n",
       "2010-01-05   6.516528   7.656429   7.699643   7.616071   7.664286  601904800\n",
       "2010-01-06   6.412873   7.534643   7.686786   7.526786   7.656429  552160000\n",
       "2010-01-07   6.401019   7.520714   7.571429   7.466071   7.562500  477131200\n",
       "2010-01-08   6.443574   7.570714   7.571429   7.466429   7.510714  447610800\n",
       "...               ...        ...        ...        ...        ...        ...\n",
       "2019-12-23  69.451065  71.000000  71.062500  70.092499  70.132500   98572000\n",
       "2019-12-24  69.517090  71.067497  71.222504  70.730003  71.172501   48478800\n",
       "2019-12-26  70.896324  72.477501  72.495003  71.175003  71.205002   93121200\n",
       "2019-12-27  70.869431  72.449997  73.492500  72.029999  72.779999  146266000\n",
       "2019-12-30  71.290054  72.879997  73.172501  71.305000  72.364998  144114400\n",
       "\n",
       "[2515 rows x 6 columns]"
      ]
     },
     "execution_count": 2,
     "metadata": {},
     "output_type": "execute_result"
    }
   ],
   "source": [
    "from matplotlib import dates # to load dates library from matplotlib\n",
    "import matplotlib.pyplot as plt # to import general matplotlib plotting library\n",
    "import numpy as np # numPy\n",
    "import pandas as pd # pandas\n",
    "import yfinance as yf # Yfinance\n",
    "\n",
    "raw = yf.download('SPY AAPL', start = '2010-01-01', end = '2019-12-31')\n",
    "raw\n",
    "\n",
    "def fix_cols(df):\n",
    "    columns = df.columns\n",
    "    outer = [col[0] for col in columns] # using a list comprehension to extract the first entry for each tuple in \n",
    "                                        # the multi-index from .columns ^above^\n",
    "    df.columns = outer\n",
    "    return df\n",
    "\n",
    "(raw\n",
    " .iloc[:, ::2]\n",
    " .pipe(fix_cols)\n",
    ")"
   ]
  },
  {
   "cell_type": "code",
   "execution_count": 3,
   "id": "00aca474-c7c5-4b5b-8e6e-712247b968b9",
   "metadata": {},
   "outputs": [
    {
     "name": "stdout",
     "output_type": "stream",
     "text": [
      "[*********************100%***********************]  2 of 2 completed\n"
     ]
    },
    {
     "data": {
      "text/html": [
       "<div>\n",
       "<style scoped>\n",
       "    .dataframe tbody tr th:only-of-type {\n",
       "        vertical-align: middle;\n",
       "    }\n",
       "\n",
       "    .dataframe tbody tr th {\n",
       "        vertical-align: top;\n",
       "    }\n",
       "\n",
       "    .dataframe thead th {\n",
       "        text-align: right;\n",
       "    }\n",
       "</style>\n",
       "<table border=\"1\" class=\"dataframe\">\n",
       "  <thead>\n",
       "    <tr style=\"text-align: right;\">\n",
       "      <th></th>\n",
       "      <th>Adj Close</th>\n",
       "      <th>Close</th>\n",
       "      <th>High</th>\n",
       "      <th>Low</th>\n",
       "      <th>Open</th>\n",
       "    </tr>\n",
       "    <tr>\n",
       "      <th>Date</th>\n",
       "      <th></th>\n",
       "      <th></th>\n",
       "      <th></th>\n",
       "      <th></th>\n",
       "      <th></th>\n",
       "    </tr>\n",
       "  </thead>\n",
       "  <tbody>\n",
       "    <tr>\n",
       "      <th>2010-01-04</th>\n",
       "      <td>6.505280</td>\n",
       "      <td>7.643214</td>\n",
       "      <td>7.660714</td>\n",
       "      <td>7.585000</td>\n",
       "      <td>7.622500</td>\n",
       "    </tr>\n",
       "    <tr>\n",
       "      <th>2010-01-05</th>\n",
       "      <td>6.516527</td>\n",
       "      <td>7.656429</td>\n",
       "      <td>7.699643</td>\n",
       "      <td>7.616071</td>\n",
       "      <td>7.664286</td>\n",
       "    </tr>\n",
       "    <tr>\n",
       "      <th>2010-01-06</th>\n",
       "      <td>6.412873</td>\n",
       "      <td>7.534643</td>\n",
       "      <td>7.686786</td>\n",
       "      <td>7.526786</td>\n",
       "      <td>7.656429</td>\n",
       "    </tr>\n",
       "    <tr>\n",
       "      <th>2010-01-07</th>\n",
       "      <td>6.401017</td>\n",
       "      <td>7.520714</td>\n",
       "      <td>7.571429</td>\n",
       "      <td>7.466071</td>\n",
       "      <td>7.562500</td>\n",
       "    </tr>\n",
       "    <tr>\n",
       "      <th>2010-01-08</th>\n",
       "      <td>6.443574</td>\n",
       "      <td>7.570714</td>\n",
       "      <td>7.571429</td>\n",
       "      <td>7.466429</td>\n",
       "      <td>7.510714</td>\n",
       "    </tr>\n",
       "    <tr>\n",
       "      <th>...</th>\n",
       "      <td>...</td>\n",
       "      <td>...</td>\n",
       "      <td>...</td>\n",
       "      <td>...</td>\n",
       "      <td>...</td>\n",
       "    </tr>\n",
       "    <tr>\n",
       "      <th>2019-12-23</th>\n",
       "      <td>69.451065</td>\n",
       "      <td>71.000000</td>\n",
       "      <td>71.062500</td>\n",
       "      <td>70.092499</td>\n",
       "      <td>70.132500</td>\n",
       "    </tr>\n",
       "    <tr>\n",
       "      <th>2019-12-24</th>\n",
       "      <td>69.517097</td>\n",
       "      <td>71.067497</td>\n",
       "      <td>71.222504</td>\n",
       "      <td>70.730003</td>\n",
       "      <td>71.172501</td>\n",
       "    </tr>\n",
       "    <tr>\n",
       "      <th>2019-12-26</th>\n",
       "      <td>70.896332</td>\n",
       "      <td>72.477501</td>\n",
       "      <td>72.495003</td>\n",
       "      <td>71.175003</td>\n",
       "      <td>71.205002</td>\n",
       "    </tr>\n",
       "    <tr>\n",
       "      <th>2019-12-27</th>\n",
       "      <td>70.869431</td>\n",
       "      <td>72.449997</td>\n",
       "      <td>73.492500</td>\n",
       "      <td>72.029999</td>\n",
       "      <td>72.779999</td>\n",
       "    </tr>\n",
       "    <tr>\n",
       "      <th>2019-12-30</th>\n",
       "      <td>71.290039</td>\n",
       "      <td>72.879997</td>\n",
       "      <td>73.172501</td>\n",
       "      <td>71.305000</td>\n",
       "      <td>72.364998</td>\n",
       "    </tr>\n",
       "  </tbody>\n",
       "</table>\n",
       "<p>2515 rows × 5 columns</p>\n",
       "</div>"
      ],
      "text/plain": [
       "            Adj Close      Close       High        Low       Open\n",
       "Date                                                             \n",
       "2010-01-04   6.505280   7.643214   7.660714   7.585000   7.622500\n",
       "2010-01-05   6.516527   7.656429   7.699643   7.616071   7.664286\n",
       "2010-01-06   6.412873   7.534643   7.686786   7.526786   7.656429\n",
       "2010-01-07   6.401017   7.520714   7.571429   7.466071   7.562500\n",
       "2010-01-08   6.443574   7.570714   7.571429   7.466429   7.510714\n",
       "...               ...        ...        ...        ...        ...\n",
       "2019-12-23  69.451065  71.000000  71.062500  70.092499  70.132500\n",
       "2019-12-24  69.517097  71.067497  71.222504  70.730003  71.172501\n",
       "2019-12-26  70.896332  72.477501  72.495003  71.175003  71.205002\n",
       "2019-12-27  70.869431  72.449997  73.492500  72.029999  72.779999\n",
       "2019-12-30  71.290039  72.879997  73.172501  71.305000  72.364998\n",
       "\n",
       "[2515 rows x 5 columns]"
      ]
     },
     "execution_count": 3,
     "metadata": {},
     "output_type": "execute_result"
    }
   ],
   "source": [
    "import yfinance as yf\n",
    "def fix_cols(df):\n",
    "    columns = df.columns\n",
    "    outer = [col[0] for col in columns] \n",
    "    df.columns = outer\n",
    "    return df\n",
    "\n",
    "def tweak_data():\n",
    "    raw = yf.download('SPY AAPL', start = '2010-01-01', end = '2019-12-31')\n",
    "                    \n",
    "    return(raw\n",
    "     .iloc[:, :-2:2] # :-2:2 takes out volume, ::2 leaves volume in\n",
    "     .pipe(fix_cols)\n",
    ")\n",
    "                      \n",
    "tweak_data()"
   ]
  },
  {
   "cell_type": "markdown",
   "id": "698ad577-a20e-43b7-af19-0babfdb03723",
   "metadata": {},
   "source": [
    "## Starting Resampling\n"
   ]
  },
  {
   "cell_type": "code",
   "execution_count": 4,
   "id": "440ff26e-a069-4605-b2a6-9b67deb396e4",
   "metadata": {},
   "outputs": [
    {
     "data": {
      "text/plain": [
       "<AxesSubplot:xlabel='Date'>"
      ]
     },
     "execution_count": 4,
     "metadata": {},
     "output_type": "execute_result"
    },
    {
     "data": {
      "image/png": "[encoded data removed]",
      "text/plain": [
       "<Figure size 640x480 with 1 Axes>"
      ]
     },
     "metadata": {},
     "output_type": "display_data"
    }
   ],
   "source": [
    "(raw\n",
    ".iloc[:, :-2:2]\n",
    ".pipe(fix_cols)\n",
    ".Close\n",
    ".plot()\n",
    ")\n",
    "\n",
    "# Close value of Apple on a daily basis from 2010 to 2020"
   ]
  },
  {
   "cell_type": "code",
   "execution_count": 5,
   "id": "c7bf09f6-7d53-4999-b368-87b7943d67f9",
   "metadata": {},
   "outputs": [
    {
     "data": {
      "text/plain": [
       "Date\n",
       "2010-01-04     7.643214\n",
       "2010-01-05     7.656429\n",
       "2010-01-06     7.534643\n",
       "2010-01-07     7.520714\n",
       "2010-01-08     7.570714\n",
       "                ...    \n",
       "2019-12-23    71.000000\n",
       "2019-12-24    71.067497\n",
       "2019-12-26    72.477501\n",
       "2019-12-27    72.449997\n",
       "2019-12-30    72.879997\n",
       "Name: Close, Length: 2515, dtype: float64"
      ]
     },
     "execution_count": 5,
     "metadata": {},
     "output_type": "execute_result"
    }
   ],
   "source": [
    "(raw\n",
    " .iloc[:, ::2]\n",
    " .pipe(fix_cols)\n",
    " .Close\n",
    ")\n",
    "\n",
    "# Each row is a single daily value"
   ]
  },
  {
   "cell_type": "code",
   "execution_count": 8,
   "id": "cb154f28-dab1-4468-af19-048622604aaa",
   "metadata": {},
   "outputs": [
    {
     "data": {
      "text/plain": [
       "<pandas.core.groupby.generic.SeriesGroupBy object at 0x000001F9CBA75310>"
      ]
     },
     "execution_count": 8,
     "metadata": {},
     "output_type": "execute_result"
    }
   ],
   "source": [
    "# To get the monthly data, as opposed to daily\n",
    "\n",
    "(raw\n",
    " .iloc[:, ::2] # Taking every other column to obtain AAPL data\n",
    " .pipe(fix_cols) # calling fix_cols function to collapse hierarchical columns\n",
    " .resample('M') # offset alias. In this case 'M' means monthly\n",
    " .Close\n",
    ")\n",
    "\n",
    "# Notice it wont return anything very useful"
   ]
  },
  {
   "cell_type": "code",
   "execution_count": 9,
   "id": "7d25dbbd-7e7e-4b60-9633-516945e68f23",
   "metadata": {},
   "outputs": [
    {
     "data": {
      "text/plain": [
       "Date\n",
       "2010-01-31     7.418402\n",
       "2010-02-28     7.099850\n",
       "2010-03-31     7.978960\n",
       "2010-04-30     8.969592\n",
       "2010-05-31     8.980768\n",
       "                ...    \n",
       "2019-08-31    51.239432\n",
       "2019-09-30    54.498750\n",
       "2019-10-31    58.821630\n",
       "2019-11-30    65.630126\n",
       "2019-12-31    68.917374\n",
       "Freq: M, Name: Close, Length: 120, dtype: float64"
      ]
     },
     "execution_count": 9,
     "metadata": {},
     "output_type": "execute_result"
    }
   ],
   "source": [
    "# you must call an aggregation method\n",
    "\n",
    "(raw\n",
    " .iloc[:, ::2] # Taking every other column to obtain AAPL data\n",
    " .pipe(fix_cols) # calling fix_cols function to collapse hierarchical columns\n",
    " .resample('M') # offset alias. In this case 'M' means monthly... every 2 months= '2M'\n",
    "                # quarterly = 'Q'\n",
    " .Close\n",
    " .mean()\n",
    ")\n",
    "\n",
    "# Will return the average, or, mean closing values for each of the months"
   ]
  },
  {
   "cell_type": "code",
   "execution_count": 10,
   "id": "ca32a6d7-8683-4b7e-b71e-74ad8c328dfa",
   "metadata": {},
   "outputs": [
    {
     "data": {
      "text/plain": [
       "<AxesSubplot:xlabel='Date'>"
      ]
     },
     "execution_count": 10,
     "metadata": {},
     "output_type": "execute_result"
    },
    {
     "data": {
      "image/png": "[encoded data removed]",
      "text/plain": [
       "<Figure size 640x480 with 1 Axes>"
      ]
     },
     "metadata": {},
     "output_type": "display_data"
    }
   ],
   "source": [
    "(raw\n",
    " .iloc[:, ::2] # Taking every other column to obtain AAPL data\n",
    " .pipe(fix_cols) # calling fix_cols function to collapse hierarchical columns\n",
    " .resample('M') # offset alias. In this case 'M' means monthly\n",
    " .Close\n",
    " .mean() # used as an aggregation method (for the actual values to be plotted)(avg monthly close every month)\n",
    " .plot()\n",
    ")"
   ]
  },
  {
   "cell_type": "code",
   "execution_count": null,
   "id": "58769e74-06c5-4b8c-9140-a8fc2be3a199",
   "metadata": {},
   "outputs": [],
   "source": []
  }
 ],
 "metadata": {
  "kernelspec": {
   "display_name": "Python 3 (ipykernel)",
   "language": "python",
   "name": "python3"
  },
  "language_info": {
   "codemirror_mode": {
    "name": "ipython",
    "version": 3
   },
   "file_extension": ".py",
   "mimetype": "text/x-python",
   "name": "python",
   "nbconvert_exporter": "python",
   "pygments_lexer": "ipython3",
   "version": "3.9.13"
  }
 },
 "nbformat": 4,
 "nbformat_minor": 5
}
