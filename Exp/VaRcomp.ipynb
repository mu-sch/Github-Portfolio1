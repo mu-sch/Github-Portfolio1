{
 "cells": [
  {
   "cell_type": "code",
   "execution_count": 1,
   "id": "1133850a-2019-45b6-b20b-510b346f7b2e",
   "metadata": {
    "tags": []
   },
   "outputs": [],
   "source": [
    "import numpy as np\n",
    "import pandas as pd\n",
    "import yfinance as yf\n",
    "from tabulate import tabulate\n",
    "from scipy.stats import norm\n",
    "\n",
    "import warnings\n",
    "warnings.filterwarnings(\"ignore\")"
   ]
  },
  {
   "cell_type": "code",
   "execution_count": 7,
   "id": "d593992f-7500-46ef-bbe3-bda57fa6e937",
   "metadata": {
    "tags": []
   },
   "outputs": [
    {
     "name": "stdout",
     "output_type": "stream",
     "text": [
      "[*********************100%***********************]  1 of 1 completed\n"
     ]
    }
   ],
   "source": [
    "#Getting Historical Data of Vanguard Total Stock Index\n",
    "\n",
    "df = yf.download('VTI', '2020-01-01', '2023-01-17')\n",
    "df = df[['Close']]\n",
    "df['returns'] = df.Close.pct_change()"
   ]
  },
  {
   "cell_type": "code",
   "execution_count": 8,
   "id": "cc517070-d537-4eb0-8088-7bc81c710a52",
   "metadata": {},
   "outputs": [
    {
     "name": "stdout",
     "output_type": "stream",
     "text": [
      "-0.04328265907186401\n"
     ]
    }
   ],
   "source": [
    "var_hist_99 = df['returns'].quantile(0.01)\n",
    "print(var_hist_99)"
   ]
  },
  {
   "cell_type": "markdown",
   "id": "f5a42135-910b-4f46-ba06-1f037d61b181",
   "metadata": {},
   "source": [
    "### Variance Covariance"
   ]
  },
  {
   "cell_type": "code",
   "execution_count": 10,
   "id": "58be0c40-cbde-4c3d-9bf6-9026d945e036",
   "metadata": {},
   "outputs": [
    {
     "name": "stdout",
     "output_type": "stream",
     "text": [
      "-0.03709498282485608\n"
     ]
    }
   ],
   "source": [
    "mean = np.mean(df['returns'])\n",
    "std_dev = np.std(df['returns'])\n",
    "\n",
    "VarCov_Var_99 = norm.ppf(0.01, mean, std_dev)\n",
    "print(VarCov_Var_99)"
   ]
  },
  {
   "cell_type": "code",
   "execution_count": 12,
   "id": "5905e7fe-83a4-46ee-8aa7-17a71f8d847a",
   "metadata": {},
   "outputs": [
    {
     "name": "stdout",
     "output_type": "stream",
     "text": [
      "-0.03700146269736685\n"
     ]
    }
   ],
   "source": [
    "# Monte Carlo Simulation \n",
    "\n",
    "np.random.seed(42)\n",
    "num_sims = 10000\n",
    "\n",
    "sim_returns = np.random.normal(mean, std_dev, num_sims)\n",
    "Sim_Var99 = np.percentile(sim_returns, 1)\n",
    "print(Sim_Var99)"
   ]
  },
  {
   "cell_type": "code",
   "execution_count": null,
   "id": "580cf894-7ff6-4572-b2fa-bb000f295711",
   "metadata": {},
   "outputs": [],
   "source": []
  }
 ],
 "metadata": {
  "kernelspec": {
   "display_name": "Python 3 (ipykernel)",
   "language": "python",
   "name": "python3"
  },
  "language_info": {
   "codemirror_mode": {
    "name": "ipython",
    "version": 3
   },
   "file_extension": ".py",
   "mimetype": "text/x-python",
   "name": "python",
   "nbconvert_exporter": "python",
   "pygments_lexer": "ipython3",
   "version": "3.9.13"
  }
 },
 "nbformat": 4,
 "nbformat_minor": 5
}
